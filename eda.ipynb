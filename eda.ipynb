{
 "cells": [
  {
   "cell_type": "markdown",
   "metadata": {},
   "source": [
    "# Task 1: Exploratory Data Analysis (EDA)\n",
    "\n",
    "Import the necessary libraries:"
   ]
  },
  {
   "cell_type": "code",
   "execution_count": 1,
   "metadata": {},
   "outputs": [],
   "source": [
    "# data processing\n",
    "import numpy as np\n",
    "import pandas as pd\n",
    "\n",
    "# plotting\n",
    "import matplotlib.pyplot as plt\n",
    "%matplotlib inline\n",
    "import seaborn as sns\n",
    "\n",
    "# get data\n",
    "from __future__ import print_function\n",
    "import sqlite3\n",
    "\n",
    "# import mann-whitney u test\n",
    "from scipy.stats import mannwhitneyu\n",
    "\n",
    "# check for Multicollinearity\n",
    "from statsmodels.stats.outliers_influence import variance_inflation_factor\n",
    "\n",
    "# improvement #1\n",
    "# placed all custom functions into a single package\n",
    "from src.utils import *"
   ]
  },
  {
   "cell_type": "markdown",
   "metadata": {},
   "source": [
    "First, establish a connection with the given `survive.db` stored in the `data` folder using sqlite3. <br>\n",
    "Then export the resultant query into a pandas DataFrame:"
   ]
  },
  {
   "cell_type": "code",
   "execution_count": 2,
   "metadata": {},
   "outputs": [
    {
     "name": "stdout",
     "output_type": "stream",
     "text": [
      "data is successfully saved!\n"
     ]
    },
    {
     "data": {
      "text/html": [
       "<div>\n",
       "<style scoped>\n",
       "    .dataframe tbody tr th:only-of-type {\n",
       "        vertical-align: middle;\n",
       "    }\n",
       "\n",
       "    .dataframe tbody tr th {\n",
       "        vertical-align: top;\n",
       "    }\n",
       "\n",
       "    .dataframe thead th {\n",
       "        text-align: right;\n",
       "    }\n",
       "</style>\n",
       "<table border=\"1\" class=\"dataframe\">\n",
       "  <thead>\n",
       "    <tr style=\"text-align: right;\">\n",
       "      <th></th>\n",
       "      <th>ID</th>\n",
       "      <th>Survive</th>\n",
       "      <th>Gender</th>\n",
       "      <th>Smoke</th>\n",
       "      <th>Diabetes</th>\n",
       "      <th>Age</th>\n",
       "      <th>Ejection Fraction</th>\n",
       "      <th>Sodium</th>\n",
       "      <th>Creatinine</th>\n",
       "      <th>Platelets</th>\n",
       "      <th>Creatine phosphokinase</th>\n",
       "      <th>Blood Pressure</th>\n",
       "      <th>Hemoglobin</th>\n",
       "      <th>Height</th>\n",
       "      <th>Weight</th>\n",
       "      <th>Favorite color</th>\n",
       "    </tr>\n",
       "  </thead>\n",
       "  <tbody>\n",
       "    <tr>\n",
       "      <th>0</th>\n",
       "      <td>TIG1GE</td>\n",
       "      <td>0</td>\n",
       "      <td>Male</td>\n",
       "      <td>Yes</td>\n",
       "      <td>Normal</td>\n",
       "      <td>50</td>\n",
       "      <td>Low</td>\n",
       "      <td>141</td>\n",
       "      <td>0.7</td>\n",
       "      <td>266000.0</td>\n",
       "      <td>185</td>\n",
       "      <td>105</td>\n",
       "      <td>12.3</td>\n",
       "      <td>180</td>\n",
       "      <td>93</td>\n",
       "      <td>green</td>\n",
       "    </tr>\n",
       "    <tr>\n",
       "      <th>1</th>\n",
       "      <td>VXUCV9</td>\n",
       "      <td>1</td>\n",
       "      <td>Male</td>\n",
       "      <td>No</td>\n",
       "      <td>Normal</td>\n",
       "      <td>75</td>\n",
       "      <td>Low</td>\n",
       "      <td>134</td>\n",
       "      <td>2.5</td>\n",
       "      <td>224000.0</td>\n",
       "      <td>99</td>\n",
       "      <td>162</td>\n",
       "      <td>13.0</td>\n",
       "      <td>140</td>\n",
       "      <td>47</td>\n",
       "      <td>black</td>\n",
       "    </tr>\n",
       "    <tr>\n",
       "      <th>2</th>\n",
       "      <td>AFH4F1</td>\n",
       "      <td>1</td>\n",
       "      <td>Female</td>\n",
       "      <td>No</td>\n",
       "      <td>Pre-diabetes</td>\n",
       "      <td>80</td>\n",
       "      <td>Low</td>\n",
       "      <td>135</td>\n",
       "      <td>1.3</td>\n",
       "      <td>192000.0</td>\n",
       "      <td>776</td>\n",
       "      <td>179</td>\n",
       "      <td>12.4</td>\n",
       "      <td>150</td>\n",
       "      <td>61</td>\n",
       "      <td>white</td>\n",
       "    </tr>\n",
       "    <tr>\n",
       "      <th>3</th>\n",
       "      <td>ZK6PAC</td>\n",
       "      <td>0</td>\n",
       "      <td>Male</td>\n",
       "      <td>No</td>\n",
       "      <td>Normal</td>\n",
       "      <td>-60</td>\n",
       "      <td>Low</td>\n",
       "      <td>136</td>\n",
       "      <td>0.9</td>\n",
       "      <td>228000.0</td>\n",
       "      <td>2261</td>\n",
       "      <td>136</td>\n",
       "      <td>15.3</td>\n",
       "      <td>130</td>\n",
       "      <td>48</td>\n",
       "      <td>yellow</td>\n",
       "    </tr>\n",
       "    <tr>\n",
       "      <th>4</th>\n",
       "      <td>6CVBRT</td>\n",
       "      <td>0</td>\n",
       "      <td>Female</td>\n",
       "      <td>No</td>\n",
       "      <td>Normal</td>\n",
       "      <td>70</td>\n",
       "      <td>Low</td>\n",
       "      <td>141</td>\n",
       "      <td>0.9</td>\n",
       "      <td>358000.0</td>\n",
       "      <td>1202</td>\n",
       "      <td>171</td>\n",
       "      <td>13.3</td>\n",
       "      <td>177</td>\n",
       "      <td>64</td>\n",
       "      <td>blue</td>\n",
       "    </tr>\n",
       "    <tr>\n",
       "      <th>...</th>\n",
       "      <td>...</td>\n",
       "      <td>...</td>\n",
       "      <td>...</td>\n",
       "      <td>...</td>\n",
       "      <td>...</td>\n",
       "      <td>...</td>\n",
       "      <td>...</td>\n",
       "      <td>...</td>\n",
       "      <td>...</td>\n",
       "      <td>...</td>\n",
       "      <td>...</td>\n",
       "      <td>...</td>\n",
       "      <td>...</td>\n",
       "      <td>...</td>\n",
       "      <td>...</td>\n",
       "      <td>...</td>\n",
       "    </tr>\n",
       "    <tr>\n",
       "      <th>14995</th>\n",
       "      <td>91MBFV</td>\n",
       "      <td>0</td>\n",
       "      <td>Male</td>\n",
       "      <td>Yes</td>\n",
       "      <td>Normal</td>\n",
       "      <td>50</td>\n",
       "      <td>Low</td>\n",
       "      <td>140</td>\n",
       "      <td>0.9</td>\n",
       "      <td>362000.0</td>\n",
       "      <td>298</td>\n",
       "      <td>109</td>\n",
       "      <td>11.8</td>\n",
       "      <td>178</td>\n",
       "      <td>51</td>\n",
       "      <td>blue</td>\n",
       "    </tr>\n",
       "    <tr>\n",
       "      <th>14996</th>\n",
       "      <td>3BK9WM</td>\n",
       "      <td>1</td>\n",
       "      <td>Male</td>\n",
       "      <td>Yes</td>\n",
       "      <td>Normal</td>\n",
       "      <td>62</td>\n",
       "      <td>Low</td>\n",
       "      <td>140</td>\n",
       "      <td>0.9</td>\n",
       "      <td>253000.0</td>\n",
       "      <td>231</td>\n",
       "      <td>141</td>\n",
       "      <td>14.6</td>\n",
       "      <td>171</td>\n",
       "      <td>114</td>\n",
       "      <td>green</td>\n",
       "    </tr>\n",
       "    <tr>\n",
       "      <th>14997</th>\n",
       "      <td>01ZP6F</td>\n",
       "      <td>0</td>\n",
       "      <td>Female</td>\n",
       "      <td>No</td>\n",
       "      <td>Normal</td>\n",
       "      <td>61</td>\n",
       "      <td>Low</td>\n",
       "      <td>141</td>\n",
       "      <td>0.9</td>\n",
       "      <td>229000.0</td>\n",
       "      <td>84</td>\n",
       "      <td>173</td>\n",
       "      <td>9.2</td>\n",
       "      <td>156</td>\n",
       "      <td>71</td>\n",
       "      <td>blue</td>\n",
       "    </tr>\n",
       "    <tr>\n",
       "      <th>14998</th>\n",
       "      <td>JMSGEG</td>\n",
       "      <td>0</td>\n",
       "      <td>Male</td>\n",
       "      <td>No</td>\n",
       "      <td>Normal</td>\n",
       "      <td>77</td>\n",
       "      <td>Low</td>\n",
       "      <td>137</td>\n",
       "      <td>1.1</td>\n",
       "      <td>406000.0</td>\n",
       "      <td>109</td>\n",
       "      <td>154</td>\n",
       "      <td>11.3</td>\n",
       "      <td>130</td>\n",
       "      <td>32</td>\n",
       "      <td>red</td>\n",
       "    </tr>\n",
       "    <tr>\n",
       "      <th>14999</th>\n",
       "      <td>16DJV7</td>\n",
       "      <td>1</td>\n",
       "      <td>Male</td>\n",
       "      <td>No</td>\n",
       "      <td>Normal</td>\n",
       "      <td>45</td>\n",
       "      <td>Low</td>\n",
       "      <td>135</td>\n",
       "      <td>1.6</td>\n",
       "      <td>126000.0</td>\n",
       "      <td>582</td>\n",
       "      <td>143</td>\n",
       "      <td>16.8</td>\n",
       "      <td>147</td>\n",
       "      <td>48</td>\n",
       "      <td>red</td>\n",
       "    </tr>\n",
       "  </tbody>\n",
       "</table>\n",
       "<p>15000 rows × 16 columns</p>\n",
       "</div>"
      ],
      "text/plain": [
       "           ID Survive  Gender Smoke      Diabetes  Age Ejection Fraction  \\\n",
       "0      TIG1GE       0    Male   Yes        Normal   50               Low   \n",
       "1      VXUCV9       1    Male    No        Normal   75               Low   \n",
       "2      AFH4F1       1  Female    No  Pre-diabetes   80               Low   \n",
       "3      ZK6PAC       0    Male    No        Normal  -60               Low   \n",
       "4      6CVBRT       0  Female    No        Normal   70               Low   \n",
       "...       ...     ...     ...   ...           ...  ...               ...   \n",
       "14995  91MBFV       0    Male   Yes        Normal   50               Low   \n",
       "14996  3BK9WM       1    Male   Yes        Normal   62               Low   \n",
       "14997  01ZP6F       0  Female    No        Normal   61               Low   \n",
       "14998  JMSGEG       0    Male    No        Normal   77               Low   \n",
       "14999  16DJV7       1    Male    No        Normal   45               Low   \n",
       "\n",
       "       Sodium  Creatinine  Platelets  Creatine phosphokinase  Blood Pressure  \\\n",
       "0         141         0.7   266000.0                     185             105   \n",
       "1         134         2.5   224000.0                      99             162   \n",
       "2         135         1.3   192000.0                     776             179   \n",
       "3         136         0.9   228000.0                    2261             136   \n",
       "4         141         0.9   358000.0                    1202             171   \n",
       "...       ...         ...        ...                     ...             ...   \n",
       "14995     140         0.9   362000.0                     298             109   \n",
       "14996     140         0.9   253000.0                     231             141   \n",
       "14997     141         0.9   229000.0                      84             173   \n",
       "14998     137         1.1   406000.0                     109             154   \n",
       "14999     135         1.6   126000.0                     582             143   \n",
       "\n",
       "       Hemoglobin  Height  Weight Favorite color  \n",
       "0            12.3     180      93          green  \n",
       "1            13.0     140      47          black  \n",
       "2            12.4     150      61          white  \n",
       "3            15.3     130      48         yellow  \n",
       "4            13.3     177      64           blue  \n",
       "...           ...     ...     ...            ...  \n",
       "14995        11.8     178      51           blue  \n",
       "14996        14.6     171     114          green  \n",
       "14997         9.2     156      71           blue  \n",
       "14998        11.3     130      32            red  \n",
       "14999        16.8     147      48            red  \n",
       "\n",
       "[15000 rows x 16 columns]"
      ]
     },
     "execution_count": 2,
     "metadata": {},
     "output_type": "execute_result"
    }
   ],
   "source": [
    "# refer to config.yaml in the src folder for details\n",
    "CONFIG_PATH = \"src\"\n",
    "config = load_config(\"config.yaml\", CONFIG_PATH)\n",
    "# retrieve data from database\n",
    "df = get_data(\"data/survive.db\")\n",
    "\n",
    "df"
   ]
  },
  {
   "cell_type": "code",
   "execution_count": 3,
   "metadata": {},
   "outputs": [],
   "source": [
    "# original code\n",
    "# conn = sqlite3.connect('data/survive.db')\n",
    "\n",
    "# # create df\n",
    "# df = pd.read_sql_query(\"SELECT * FROM survive\", conn)\n",
    "# df"
   ]
  },
  {
   "cell_type": "code",
   "execution_count": 4,
   "metadata": {},
   "outputs": [],
   "source": [
    "# # close connection\n",
    "# conn.commit()\n",
    "# conn.close()"
   ]
  },
  {
   "cell_type": "markdown",
   "metadata": {},
   "source": [
    "# Data Cleaning\n",
    "Before processing the data, it is important to ensure that it is free of any missing and inconsistent values and outliers. <br>\n",
    "With a clean dataset, we can tend try to establish relationships with the variables.\n",
    "\n",
    "This dataset contains 15000 entries (rows) and 16 attributes (columns). <br>\n",
    "The dataset consists of medical records of coronary artery disease patients. <br>\n",
    "\n",
    "## Remove Missing Data\n",
    "First, do a check to see if there are any missing values in the dataset:"
   ]
  },
  {
   "cell_type": "code",
   "execution_count": 5,
   "metadata": {},
   "outputs": [
    {
     "data": {
      "text/plain": [
       "ID                          0\n",
       "Survive                     0\n",
       "Gender                      0\n",
       "Smoke                       0\n",
       "Diabetes                    0\n",
       "Age                         0\n",
       "Ejection Fraction           0\n",
       "Sodium                      0\n",
       "Creatinine                499\n",
       "Platelets                   0\n",
       "Creatine phosphokinase      0\n",
       "Blood Pressure              0\n",
       "Hemoglobin                  0\n",
       "Height                      0\n",
       "Weight                      0\n",
       "Favorite color              0\n",
       "dtype: int64"
      ]
     },
     "execution_count": 5,
     "metadata": {},
     "output_type": "execute_result"
    }
   ],
   "source": [
    "# get total number of missing values\n",
    "df.isnull().sum()"
   ]
  },
  {
   "cell_type": "markdown",
   "metadata": {},
   "source": [
    "It appears that only the column `Creatinine` has missing values. <br>\n",
    "What is the proportion of this column is missing?"
   ]
  },
  {
   "cell_type": "code",
   "execution_count": 6,
   "metadata": {},
   "outputs": [
    {
     "data": {
      "text/plain": [
       "3.33"
      ]
     },
     "execution_count": 6,
     "metadata": {},
     "output_type": "execute_result"
    }
   ],
   "source": [
    "# get percentage of missing data in dataset\n",
    "a = len(df)\n",
    "round(499/a * 100, 2)"
   ]
  },
  {
   "cell_type": "markdown",
   "metadata": {},
   "source": [
    "Since this column has 3.33% of its data missing, I can safely remove all rows with missing values without any significant loss in data.\n",
    "\n",
    "It is possible to replace these missing values with the mean Creatinine level for these patients. However that would be introducing an assumption which may not be accurate and instead lead to a misleading result when processed by a model."
   ]
  },
  {
   "cell_type": "code",
   "execution_count": 7,
   "metadata": {},
   "outputs": [
    {
     "data": {
      "text/html": [
       "<div>\n",
       "<style scoped>\n",
       "    .dataframe tbody tr th:only-of-type {\n",
       "        vertical-align: middle;\n",
       "    }\n",
       "\n",
       "    .dataframe tbody tr th {\n",
       "        vertical-align: top;\n",
       "    }\n",
       "\n",
       "    .dataframe thead th {\n",
       "        text-align: right;\n",
       "    }\n",
       "</style>\n",
       "<table border=\"1\" class=\"dataframe\">\n",
       "  <thead>\n",
       "    <tr style=\"text-align: right;\">\n",
       "      <th></th>\n",
       "      <th>ID</th>\n",
       "      <th>Survive</th>\n",
       "      <th>Gender</th>\n",
       "      <th>Smoke</th>\n",
       "      <th>Diabetes</th>\n",
       "      <th>Age</th>\n",
       "      <th>Ejection Fraction</th>\n",
       "      <th>Sodium</th>\n",
       "      <th>Creatinine</th>\n",
       "      <th>Platelets</th>\n",
       "      <th>Creatine phosphokinase</th>\n",
       "      <th>Blood Pressure</th>\n",
       "      <th>Hemoglobin</th>\n",
       "      <th>Height</th>\n",
       "      <th>Weight</th>\n",
       "      <th>Favorite color</th>\n",
       "    </tr>\n",
       "  </thead>\n",
       "  <tbody>\n",
       "    <tr>\n",
       "      <th>0</th>\n",
       "      <td>TIG1GE</td>\n",
       "      <td>0</td>\n",
       "      <td>Male</td>\n",
       "      <td>Yes</td>\n",
       "      <td>Normal</td>\n",
       "      <td>50</td>\n",
       "      <td>Low</td>\n",
       "      <td>141</td>\n",
       "      <td>0.7</td>\n",
       "      <td>266000.0</td>\n",
       "      <td>185</td>\n",
       "      <td>105</td>\n",
       "      <td>12.3</td>\n",
       "      <td>180</td>\n",
       "      <td>93</td>\n",
       "      <td>green</td>\n",
       "    </tr>\n",
       "    <tr>\n",
       "      <th>1</th>\n",
       "      <td>VXUCV9</td>\n",
       "      <td>1</td>\n",
       "      <td>Male</td>\n",
       "      <td>No</td>\n",
       "      <td>Normal</td>\n",
       "      <td>75</td>\n",
       "      <td>Low</td>\n",
       "      <td>134</td>\n",
       "      <td>2.5</td>\n",
       "      <td>224000.0</td>\n",
       "      <td>99</td>\n",
       "      <td>162</td>\n",
       "      <td>13.0</td>\n",
       "      <td>140</td>\n",
       "      <td>47</td>\n",
       "      <td>black</td>\n",
       "    </tr>\n",
       "    <tr>\n",
       "      <th>2</th>\n",
       "      <td>AFH4F1</td>\n",
       "      <td>1</td>\n",
       "      <td>Female</td>\n",
       "      <td>No</td>\n",
       "      <td>Pre-diabetes</td>\n",
       "      <td>80</td>\n",
       "      <td>Low</td>\n",
       "      <td>135</td>\n",
       "      <td>1.3</td>\n",
       "      <td>192000.0</td>\n",
       "      <td>776</td>\n",
       "      <td>179</td>\n",
       "      <td>12.4</td>\n",
       "      <td>150</td>\n",
       "      <td>61</td>\n",
       "      <td>white</td>\n",
       "    </tr>\n",
       "    <tr>\n",
       "      <th>3</th>\n",
       "      <td>ZK6PAC</td>\n",
       "      <td>0</td>\n",
       "      <td>Male</td>\n",
       "      <td>No</td>\n",
       "      <td>Normal</td>\n",
       "      <td>-60</td>\n",
       "      <td>Low</td>\n",
       "      <td>136</td>\n",
       "      <td>0.9</td>\n",
       "      <td>228000.0</td>\n",
       "      <td>2261</td>\n",
       "      <td>136</td>\n",
       "      <td>15.3</td>\n",
       "      <td>130</td>\n",
       "      <td>48</td>\n",
       "      <td>yellow</td>\n",
       "    </tr>\n",
       "    <tr>\n",
       "      <th>4</th>\n",
       "      <td>6CVBRT</td>\n",
       "      <td>0</td>\n",
       "      <td>Female</td>\n",
       "      <td>No</td>\n",
       "      <td>Normal</td>\n",
       "      <td>70</td>\n",
       "      <td>Low</td>\n",
       "      <td>141</td>\n",
       "      <td>0.9</td>\n",
       "      <td>358000.0</td>\n",
       "      <td>1202</td>\n",
       "      <td>171</td>\n",
       "      <td>13.3</td>\n",
       "      <td>177</td>\n",
       "      <td>64</td>\n",
       "      <td>blue</td>\n",
       "    </tr>\n",
       "    <tr>\n",
       "      <th>...</th>\n",
       "      <td>...</td>\n",
       "      <td>...</td>\n",
       "      <td>...</td>\n",
       "      <td>...</td>\n",
       "      <td>...</td>\n",
       "      <td>...</td>\n",
       "      <td>...</td>\n",
       "      <td>...</td>\n",
       "      <td>...</td>\n",
       "      <td>...</td>\n",
       "      <td>...</td>\n",
       "      <td>...</td>\n",
       "      <td>...</td>\n",
       "      <td>...</td>\n",
       "      <td>...</td>\n",
       "      <td>...</td>\n",
       "    </tr>\n",
       "    <tr>\n",
       "      <th>14995</th>\n",
       "      <td>91MBFV</td>\n",
       "      <td>0</td>\n",
       "      <td>Male</td>\n",
       "      <td>Yes</td>\n",
       "      <td>Normal</td>\n",
       "      <td>50</td>\n",
       "      <td>Low</td>\n",
       "      <td>140</td>\n",
       "      <td>0.9</td>\n",
       "      <td>362000.0</td>\n",
       "      <td>298</td>\n",
       "      <td>109</td>\n",
       "      <td>11.8</td>\n",
       "      <td>178</td>\n",
       "      <td>51</td>\n",
       "      <td>blue</td>\n",
       "    </tr>\n",
       "    <tr>\n",
       "      <th>14996</th>\n",
       "      <td>3BK9WM</td>\n",
       "      <td>1</td>\n",
       "      <td>Male</td>\n",
       "      <td>Yes</td>\n",
       "      <td>Normal</td>\n",
       "      <td>62</td>\n",
       "      <td>Low</td>\n",
       "      <td>140</td>\n",
       "      <td>0.9</td>\n",
       "      <td>253000.0</td>\n",
       "      <td>231</td>\n",
       "      <td>141</td>\n",
       "      <td>14.6</td>\n",
       "      <td>171</td>\n",
       "      <td>114</td>\n",
       "      <td>green</td>\n",
       "    </tr>\n",
       "    <tr>\n",
       "      <th>14997</th>\n",
       "      <td>01ZP6F</td>\n",
       "      <td>0</td>\n",
       "      <td>Female</td>\n",
       "      <td>No</td>\n",
       "      <td>Normal</td>\n",
       "      <td>61</td>\n",
       "      <td>Low</td>\n",
       "      <td>141</td>\n",
       "      <td>0.9</td>\n",
       "      <td>229000.0</td>\n",
       "      <td>84</td>\n",
       "      <td>173</td>\n",
       "      <td>9.2</td>\n",
       "      <td>156</td>\n",
       "      <td>71</td>\n",
       "      <td>blue</td>\n",
       "    </tr>\n",
       "    <tr>\n",
       "      <th>14998</th>\n",
       "      <td>JMSGEG</td>\n",
       "      <td>0</td>\n",
       "      <td>Male</td>\n",
       "      <td>No</td>\n",
       "      <td>Normal</td>\n",
       "      <td>77</td>\n",
       "      <td>Low</td>\n",
       "      <td>137</td>\n",
       "      <td>1.1</td>\n",
       "      <td>406000.0</td>\n",
       "      <td>109</td>\n",
       "      <td>154</td>\n",
       "      <td>11.3</td>\n",
       "      <td>130</td>\n",
       "      <td>32</td>\n",
       "      <td>red</td>\n",
       "    </tr>\n",
       "    <tr>\n",
       "      <th>14999</th>\n",
       "      <td>16DJV7</td>\n",
       "      <td>1</td>\n",
       "      <td>Male</td>\n",
       "      <td>No</td>\n",
       "      <td>Normal</td>\n",
       "      <td>45</td>\n",
       "      <td>Low</td>\n",
       "      <td>135</td>\n",
       "      <td>1.6</td>\n",
       "      <td>126000.0</td>\n",
       "      <td>582</td>\n",
       "      <td>143</td>\n",
       "      <td>16.8</td>\n",
       "      <td>147</td>\n",
       "      <td>48</td>\n",
       "      <td>red</td>\n",
       "    </tr>\n",
       "  </tbody>\n",
       "</table>\n",
       "<p>14501 rows × 16 columns</p>\n",
       "</div>"
      ],
      "text/plain": [
       "           ID Survive  Gender Smoke      Diabetes  Age Ejection Fraction  \\\n",
       "0      TIG1GE       0    Male   Yes        Normal   50               Low   \n",
       "1      VXUCV9       1    Male    No        Normal   75               Low   \n",
       "2      AFH4F1       1  Female    No  Pre-diabetes   80               Low   \n",
       "3      ZK6PAC       0    Male    No        Normal  -60               Low   \n",
       "4      6CVBRT       0  Female    No        Normal   70               Low   \n",
       "...       ...     ...     ...   ...           ...  ...               ...   \n",
       "14995  91MBFV       0    Male   Yes        Normal   50               Low   \n",
       "14996  3BK9WM       1    Male   Yes        Normal   62               Low   \n",
       "14997  01ZP6F       0  Female    No        Normal   61               Low   \n",
       "14998  JMSGEG       0    Male    No        Normal   77               Low   \n",
       "14999  16DJV7       1    Male    No        Normal   45               Low   \n",
       "\n",
       "       Sodium  Creatinine  Platelets  Creatine phosphokinase  Blood Pressure  \\\n",
       "0         141         0.7   266000.0                     185             105   \n",
       "1         134         2.5   224000.0                      99             162   \n",
       "2         135         1.3   192000.0                     776             179   \n",
       "3         136         0.9   228000.0                    2261             136   \n",
       "4         141         0.9   358000.0                    1202             171   \n",
       "...       ...         ...        ...                     ...             ...   \n",
       "14995     140         0.9   362000.0                     298             109   \n",
       "14996     140         0.9   253000.0                     231             141   \n",
       "14997     141         0.9   229000.0                      84             173   \n",
       "14998     137         1.1   406000.0                     109             154   \n",
       "14999     135         1.6   126000.0                     582             143   \n",
       "\n",
       "       Hemoglobin  Height  Weight Favorite color  \n",
       "0            12.3     180      93          green  \n",
       "1            13.0     140      47          black  \n",
       "2            12.4     150      61          white  \n",
       "3            15.3     130      48         yellow  \n",
       "4            13.3     177      64           blue  \n",
       "...           ...     ...     ...            ...  \n",
       "14995        11.8     178      51           blue  \n",
       "14996        14.6     171     114          green  \n",
       "14997         9.2     156      71           blue  \n",
       "14998        11.3     130      32            red  \n",
       "14999        16.8     147      48            red  \n",
       "\n",
       "[14501 rows x 16 columns]"
      ]
     },
     "execution_count": 7,
     "metadata": {},
     "output_type": "execute_result"
    }
   ],
   "source": [
    "# remove rows with missing data\n",
    "df.dropna(axis=0, inplace=True)\n",
    "df"
   ]
  },
  {
   "cell_type": "markdown",
   "metadata": {},
   "source": [
    "What about the dtypes of each of the columns:"
   ]
  },
  {
   "cell_type": "code",
   "execution_count": 8,
   "metadata": {},
   "outputs": [
    {
     "name": "stdout",
     "output_type": "stream",
     "text": [
      "<class 'pandas.core.frame.DataFrame'>\n",
      "Int64Index: 14501 entries, 0 to 14999\n",
      "Data columns (total 16 columns):\n",
      " #   Column                  Non-Null Count  Dtype  \n",
      "---  ------                  --------------  -----  \n",
      " 0   ID                      14501 non-null  object \n",
      " 1   Survive                 14501 non-null  object \n",
      " 2   Gender                  14501 non-null  object \n",
      " 3   Smoke                   14501 non-null  object \n",
      " 4   Diabetes                14501 non-null  object \n",
      " 5   Age                     14501 non-null  int64  \n",
      " 6   Ejection Fraction       14501 non-null  object \n",
      " 7   Sodium                  14501 non-null  int64  \n",
      " 8   Creatinine              14501 non-null  float64\n",
      " 9   Platelets               14501 non-null  float64\n",
      " 10  Creatine phosphokinase  14501 non-null  int64  \n",
      " 11  Blood Pressure          14501 non-null  int64  \n",
      " 12  Hemoglobin              14501 non-null  float64\n",
      " 13  Height                  14501 non-null  int64  \n",
      " 14  Weight                  14501 non-null  int64  \n",
      " 15  Favorite color          14501 non-null  object \n",
      "dtypes: float64(3), int64(6), object(7)\n",
      "memory usage: 1.9+ MB\n"
     ]
    }
   ],
   "source": [
    "# check dtypes and any missing values in dataset\n",
    "df.info()"
   ]
  },
  {
   "cell_type": "markdown",
   "metadata": {},
   "source": [
    "While I expect some columns to contain numerical values (such as `Ejection Fraction`), it looks like some of them are of the string type (`object`) instead. <br>\n",
    "\n",
    "Let's have a closer look at the exact values of these columns:"
   ]
  },
  {
   "cell_type": "code",
   "execution_count": 9,
   "metadata": {},
   "outputs": [
    {
     "name": "stdout",
     "output_type": "stream",
     "text": [
      "ID                        [TIG1GE, VXUCV9, AFH4F1, ZK6PAC, 6CVBRT, 5JAQ9...\n",
      "Survive                                                     [0, 1, No, Yes]\n",
      "Gender                                                       [Male, Female]\n",
      "Smoke                                                    [Yes, No, NO, YES]\n",
      "Diabetes                                   [Normal, Pre-diabetes, Diabetes]\n",
      "Age                       [50, 75, 80, -60, 70, 55, 65, 60, -40, 53, 68,...\n",
      "Ejection Fraction                                 [Low, Normal, High, L, N]\n",
      "Sodium                    [141, 134, 135, 136, 138, 139, 140, 127, 145, ...\n",
      "Creatinine                [0.7, 2.5, 1.3, 0.9, 1.1, 1.7, 0.75, 1.2, 0.8,...\n",
      "Platelets                 [266000.0, 224000.0, 192000.0, 228000.0, 35800...\n",
      "Creatine phosphokinase    [185, 99, 776, 2261, 1202, 2017, 326, 96, 166,...\n",
      "Blood Pressure            [105, 162, 179, 136, 171, 88, 164, 82, 83, 59,...\n",
      "Hemoglobin                [12.3, 13.0, 12.4, 15.3, 13.3, 16.5, 16.3, 14....\n",
      "Height                    [180, 140, 150, 130, 177, 176, 172, 167, 156, ...\n",
      "Weight                    [93, 47, 61, 48, 64, 58, 70, 50, 94, 45, 118, ...\n",
      "Favorite color                     [green, black, white, yellow, blue, red]\n",
      "dtype: object\n"
     ]
    }
   ],
   "source": [
    "# improvement #2\n",
    "# replace for loop with a lambda function\n",
    "print(df.apply(lambda col: col.unique()))"
   ]
  },
  {
   "cell_type": "code",
   "execution_count": 10,
   "metadata": {},
   "outputs": [
    {
     "name": "stdout",
     "output_type": "stream",
     "text": [
      "ID\n",
      "['TIG1GE' 'VXUCV9' 'AFH4F1' ... '01ZP6F' 'JMSGEG' '16DJV7']\n",
      "----------\n",
      "Survive\n",
      "['0' '1' 'No' 'Yes']\n",
      "----------\n",
      "Gender\n",
      "['Male' 'Female']\n",
      "----------\n",
      "Smoke\n",
      "['Yes' 'No' 'NO' 'YES']\n",
      "----------\n",
      "Diabetes\n",
      "['Normal' 'Pre-diabetes' 'Diabetes']\n",
      "----------\n",
      "Age\n",
      "[ 50  75  80 -60  70  55  65  60 -40  53  68  42  45  79  58 -85  49  94\n",
      "  43  77  51  61  72  69  40  78  62  63  87  54  57  95  90  48 -45  56\n",
      " -58  85 -50  86 -65  73  67 -52  82  59  46  44  64  52 -69 -42  41  47\n",
      " -53  81 -44 -49 -63  66 -59 -41 -70 -48 -55 -51 -73 -75 -57 -64 -78 -54\n",
      " -90 -80 -86 -61 -46 -62 -68 -43 -72 -66 -81 -47 -95 -82 -67]\n",
      "----------\n",
      "Ejection Fraction\n",
      "['Low' 'Normal' 'High' 'L' 'N']\n",
      "----------\n",
      "Sodium\n",
      "[141 134 135 136 138 139 140 127 145 137 133 132 142 130 128 143 131 144\n",
      " 116 121 129 125 124 126 148 113 146]\n",
      "----------\n",
      "Creatinine\n",
      "[0.7  2.5  1.3  0.9  1.1  1.7  0.75 1.2  0.8  1.18 1.8  1.   2.3  1.4\n",
      " 1.83 3.5  3.8  1.9  2.2  9.   2.   2.7  1.6  9.4  5.8  1.5  2.9  2.1\n",
      " 0.6  6.1  4.4  4.   2.4  0.5  3.4  5.   3.   6.8  3.7  3.2 ]\n",
      "----------\n",
      "Platelets\n",
      "[266000.   224000.   192000.   228000.   358000.   314000.   294000.\n",
      "  62000.   194000.   127000.   185000.   255000.   368000.   533000.\n",
      " 289000.   237000.   263358.03 189000.   172000.   164000.   243000.\n",
      " 305000.   140000.   132000.   173000.   319000.   304000.   543000.\n",
      " 317000.   176000.   406000.   327000.   226000.   302000.   271000.\n",
      " 279000.   267000.   184000.   196000.   232000.   282000.   211000.\n",
      " 274000.   290000.   298000.   215000.   203000.   241000.   742000.\n",
      " 351000.   310000.   286000.   204000.   216000.   174000.   147000.\n",
      " 105000.   481000.   221000.   283000.   262000.   218000.   151000.\n",
      " 166000.   219000.   150000.   395000.   461000.   371000.   254000.\n",
      " 390000.    87000.    25100.   264000.   126000.   155000.   133000.\n",
      " 277000.   388000.   300000.   153000.   252000.    73000.   303000.\n",
      " 306000.   244000.   210000.   119000.   188000.   350000.    51000.\n",
      " 297000.   284000.   122000.   365000.   418000.   160000.   229000.\n",
      " 250000.   276000.   223000.   325000.   321000.   389000.   275000.\n",
      " 162000.   225000.   348000.   385000.   149000.   265000.   235000.\n",
      " 309000.   293000.   220000.   328000.    70000.   451000.   362000.\n",
      " 257000.   382000.   404000.   212000.   246000.   374000.   308000.\n",
      " 301000.   249000.   248000.   270000.   334000.   448000.   268000.\n",
      " 130000.   136000.   231000.   850000.   186000.   179000.   329000.\n",
      " 324000.   222000.   227000.   200000.   281000.    75000.   236000.\n",
      " 318000.   454000.   213000.   377000.   336000.   242000.   198000.\n",
      " 259000.   295000.   263000.   217000.   621000.   181000.   507000.\n",
      " 360000.   422000.   253000.   201000.   208000.    47000.   337000.\n",
      " 260000.   233000.   330000.   504000.   141000.   338000.   497000.\n",
      " 427000.  ]\n",
      "----------\n",
      "Creatine phosphokinase\n",
      "[ 185   99  776 2261 1202 2017  326   96  166  118  246  571  129   63\n",
      "   81  220  102  582   64   55  400 5882 2656 2413   69   47  789   68\n",
      "   92  358  171  109  618 1876  159 1380 1846  835  248  115  805   76\n",
      " 1051   80 1548  231  211  135  305   66 2695 2060   90  143   53  318\n",
      "  130 1419  224  281   61 2281  149  127  892  260  427  577  145  257\n",
      "  371  337  160  133  123  200   93   60  369 1767  478   54  131  737\n",
      "   94  250  514  128  122 1896 7861  607   91   84 1082   52   75  180\n",
      "  446 3966  553  111  855  168  280  104  203  244  146  207  291  110\n",
      "  148  655  675  196  124  232  897   62  898 1185   58  754  167  720\n",
      "  190 2522   97   59   86  249   57 7702   56  624   78  119  646 1820\n",
      "  320 2442  972  981 4540  132  292  113  101  212 1199 1211  103  482\n",
      "  336  615  270   70  198  144 2334   88  156  315  308  364  298  235\n",
      "  170  418  233 1610  112  154 1021  258 1688  193  588  245  748   72\n",
      " 3964  176 1808  335  328  910   23 5209  719  161  151  157  572  936\n",
      "  191  379   95  253  121  213  707  125   30  395 2794  943]\n",
      "----------\n",
      "Blood Pressure\n",
      "[105 162 179 136 171  88 164  82  83  59 102  71 139 165  56 145 124  75\n",
      "  49 109 147 110  79  76 133 108  85 170 177 137  73 131  58 130  94  90\n",
      "  48 111 176 103 123 174 132  57 115  92 153  67  47  41 100  89 118 152\n",
      " 112  86 141  80  53  69  64 138  84  45  74  72 159 117  95 151  77 173\n",
      "  55 129 116  96  44 150  93 148 144 113  78 149  54 125  63  87 167 154\n",
      " 114  81 119 169 156 163 134 122 168  51 175  46 107 143  52 172 166 158\n",
      "  42 106 155 104 157 160  62  68  99  65  43  66  91 178  40 135  98 128\n",
      "  70  97  60 121 101 140 126  61 142  50 161 146 127]\n",
      "----------\n",
      "Hemoglobin\n",
      "[12.3 13.  12.4 15.3 13.3 16.5 16.3 14.1 15.5 12.7 10.7 16.6  9.1 14.4\n",
      " 16.  10.5 13.2 11.  10.  15.2 12.8  9.4 11.6 12.9 17.4 10.1 13.7 13.5\n",
      " 10.9 11.7 14.7 17.2  9.9 10.2 16.4 16.1 10.6 13.6 14.2 13.1 11.2 11.5\n",
      " 17.5 11.4 12.2 17.1 10.4 15.7 12.5 15.  11.1  9.8  9.5 11.3  9.3 14.5\n",
      " 17.3 16.2 12.6 14.3  9.2 13.9 10.8 17.   9.6 15.6 15.9 13.8 10.3 11.8\n",
      " 14.8 16.8 15.4 14.  16.9 16.7 14.9 13.4  9.  14.6 12.1 15.1  9.7 12.\n",
      " 15.8 11.9]\n",
      "----------\n",
      "Height\n",
      "[180 140 150 130 177 176 172 167 156 174 132 141 157 135 149 155 145 160\n",
      " 186 178 134 182 137 148 168 142 183 143 181 144 163 166 164 146 131 185\n",
      " 189 179 165 188 175 170 153 139 147 133 161 171 173 136 184 169 187 154\n",
      " 151 138 162 152 158 159]\n",
      "----------\n",
      "Weight\n",
      "[ 93  47  61  48  64  58  70  50  94  45 118  36  73  37 117  46  69 106\n",
      "  75  68 100  84 128  97  22  53  42  55  65  85  39  51  81  67 102  91\n",
      "  77  62 104 103  66 113  90  27  30  78  83 107  60 112 114  49  80  95\n",
      "  43  52  34 125  99 101  87  26  71  92  54 124  23  44  40 115  38 110\n",
      "  79  74  59 109  76  96  41 133  57  56  63  98 108  88  86  32  72 119\n",
      "  33  31 116  35 131  89  82  19  28 130 105 123 136 111 134 120  24 132\n",
      "  29 126 135 129 139 140 121 122 127  25  20 138  21 137 141]\n",
      "----------\n",
      "Favorite color\n",
      "['green' 'black' 'white' 'yellow' 'blue' 'red']\n",
      "----------\n"
     ]
    }
   ],
   "source": [
    "# original code\n",
    "# get all columns' names and unique values\n",
    "for col in df:\n",
    "    print(col)\n",
    "    print(df[col].unique())\n",
    "    print('-'*10)"
   ]
  },
  {
   "cell_type": "markdown",
   "metadata": {},
   "source": [
    "## Remove Redundant Data\n",
    "`ID` and `Favorite color` do not provide any useful information in predicting survival rate, hence I will remove them."
   ]
  },
  {
   "cell_type": "code",
   "execution_count": 11,
   "metadata": {},
   "outputs": [],
   "source": [
    "# # remove ID and Favorite color from df\n",
    "# df.drop(['ID', 'Favorite color'], axis=1, inplace=True)"
   ]
  },
  {
   "cell_type": "markdown",
   "metadata": {},
   "source": [
    "## Fix Structural Errors"
   ]
  },
  {
   "cell_type": "code",
   "execution_count": 12,
   "metadata": {},
   "outputs": [],
   "source": [
    "df = clean_data(df, CONFIG_PATH)"
   ]
  },
  {
   "cell_type": "code",
   "execution_count": 13,
   "metadata": {},
   "outputs": [
    {
     "data": {
      "text/plain": [
       "array(['Survive', 'Gender', 'Smoke', 'Diabetes', 'Age',\n",
       "       'Ejection_Fraction', 'Sodium', 'Creatinine', 'Platelets',\n",
       "       'Blood_Pressure', 'Hemoglobin', 'Height', 'Weight'], dtype=object)"
      ]
     },
     "execution_count": 13,
     "metadata": {},
     "output_type": "execute_result"
    }
   ],
   "source": [
    "# get names of every column\n",
    "df.columns.values"
   ]
  },
  {
   "cell_type": "code",
   "execution_count": 14,
   "metadata": {},
   "outputs": [
    {
     "name": "stderr",
     "output_type": "stream",
     "text": [
      "C:\\Users\\user\\anaconda3\\lib\\site-packages\\pandas\\core\\frame.py:3641: SettingWithCopyWarning: \n",
      "A value is trying to be set on a copy of a slice from a DataFrame.\n",
      "Try using .loc[row_indexer,col_indexer] = value instead\n",
      "\n",
      "See the caveats in the documentation: https://pandas.pydata.org/pandas-docs/stable/user_guide/indexing.html#returning-a-view-versus-a-copy\n",
      "  self[k1] = value[k2]\n",
      "C:\\Users\\user\\anaconda3\\lib\\site-packages\\pandas\\core\\generic.py:6619: SettingWithCopyWarning: \n",
      "A value is trying to be set on a copy of a slice from a DataFrame\n",
      "\n",
      "See the caveats in the documentation: https://pandas.pydata.org/pandas-docs/stable/user_guide/indexing.html#returning-a-view-versus-a-copy\n",
      "  return self._update_inplace(result)\n"
     ]
    }
   ],
   "source": [
    "columns = ['Survive', 'Smoke']\n",
    "dummy_columns = ['Diabetes']\n",
    "df = encoding_cat_cols(df, columns, dummy_columns)"
   ]
  },
  {
   "cell_type": "markdown",
   "metadata": {},
   "source": [
    "### Rename Column Names\n",
    "Remove any spaces, dashes and brackets inside column names to adhere to naming conventions (and to avoid future errors)."
   ]
  },
  {
   "cell_type": "code",
   "execution_count": 15,
   "metadata": {},
   "outputs": [],
   "source": [
    "# df.columns = df.columns.str.replace(' ','_')\n",
    "\n",
    "# # check\n",
    "# df.columns.values"
   ]
  },
  {
   "cell_type": "markdown",
   "metadata": {},
   "source": [
    "### Categorical Data\n",
    "Most of the columns are categorical data (can take on one of a fixed set of possible values):\n",
    "- Survive\n",
    "- Gender\n",
    "- Smoke\n",
    "- Diabetes\n",
    "- Ejection Fraction\n",
    "- Sodium\n",
    "- Creatinine\n",
    "- Platelets\n",
    "- Creatine phosphokinase\n",
    "- Blood Pressure\n",
    "- Hemoglobin\n",
    "\n",
    "There are some inconsistencies in the naming of the labels. <br>\n",
    "E.g. Binary columns should only contain \"Yes\" and \"No\". These inconsistencies can introduce some inaccuracy in the represention of the data. Hence I will go over each of these columns are re-group the values accordingly.\n",
    "\n",
    "### Survive\n",
    "Since the objective is to predict the survival of coronary artery disease patients, the target variable will be the column `Survive`. Therfore, `Survive` should be a binary variable that only contains 2 different values. It is usually an indicator variable with  `0` representing `No`, and `1` representing `Yes`.<br>\n",
    "\n",
    "However, `Survive` is of the `object` dtype, which suggests that it contains strings instead of integers. Upon closer examination, it contains both categorical and numerical values. <br>\n",
    "As stated in the problem statement page 6, the value `0` means `No` and the value `1` means `Yes`. <br>\n",
    "Hence, to make the column consistent, I will convert all categorical values into their respective numerical values:"
   ]
  },
  {
   "cell_type": "code",
   "execution_count": 16,
   "metadata": {},
   "outputs": [
    {
     "name": "stdout",
     "output_type": "stream",
     "text": [
      "0    9628\n",
      "1    4815\n",
      "Name: Survive, dtype: int64\n",
      "int32\n"
     ]
    }
   ],
   "source": [
    "# # manually replace text\n",
    "# df['Survive'].replace({\"No\": 0, \"Yes\": 1}, inplace=True)\n",
    "\n",
    "# # convert column to integer dtype\n",
    "# df = df.astype({'Survive': int})\n",
    "\n",
    "# check\n",
    "print(df['Survive'].value_counts())\n",
    "print(df['Survive'].dtype)"
   ]
  },
  {
   "cell_type": "code",
   "execution_count": 17,
   "metadata": {},
   "outputs": [
    {
     "data": {
      "text/plain": [
       "0    66.662051\n",
       "1    33.337949\n",
       "Name: Survive, dtype: float64"
      ]
     },
     "execution_count": 17,
     "metadata": {},
     "output_type": "execute_result"
    }
   ],
   "source": [
    "# check if imbalance\n",
    "df['Survive'].value_counts(normalize=True) * 100\n",
    "\n",
    "# proportions are different as rows with High Ejection_Fraction were removed in clean_data()"
   ]
  },
  {
   "cell_type": "markdown",
   "metadata": {},
   "source": [
    "About 68% of the patients in the dataset did not survive. <br>\n",
    "This is likely because patients with health issues are likely to show a higher death rate.\n",
    "\n",
    "\n",
    "Since the number of class labels (Yes and No) are not close to each other, processing them may cause the Machine Learning or Deep Learning models to predict more false negatives due to a biased or skewed dataset."
   ]
  },
  {
   "cell_type": "markdown",
   "metadata": {},
   "source": [
    "### Gender\n",
    "The values consist of only `Male` and `Female`. Thus it is consistent.\n",
    "\n",
    "### Smoke\n",
    "This column has 2 versions of Yes and No: One that is fully capitalised and the other that's not. Since they share the same meaning, they can be grouped together:"
   ]
  },
  {
   "cell_type": "code",
   "execution_count": 18,
   "metadata": {},
   "outputs": [
    {
     "data": {
      "text/plain": [
       "array([1, 0])"
      ]
     },
     "execution_count": 18,
     "metadata": {},
     "output_type": "execute_result"
    }
   ],
   "source": [
    "# # replace values into binary yes/no values\n",
    "# df['Smoke'].replace(to_replace=\"YES\", value='Yes', inplace=True)\n",
    "# df['Smoke'].replace(to_replace=\"NO\", value='No', inplace=True)\n",
    "\n",
    "# check values\n",
    "df['Smoke'].unique()"
   ]
  },
  {
   "cell_type": "markdown",
   "metadata": {},
   "source": [
    "### Diabetes\n",
    "This column has 3 unique values: `Normal`, `Pre-diabetes` and `Diabetes`. Thus it is consistent.\n",
    "\n",
    "### Ejection Fraction\n",
    "Similarly as the `Smoke` column, `L` and `N` can be assumed to be a shorthand for `Low` and `Normal` respectively:"
   ]
  },
  {
   "cell_type": "code",
   "execution_count": 19,
   "metadata": {},
   "outputs": [
    {
     "data": {
      "text/plain": [
       "array([1, 0], dtype=int64)"
      ]
     },
     "execution_count": 19,
     "metadata": {},
     "output_type": "execute_result"
    }
   ],
   "source": [
    "# # replace values into binary yes/no values\n",
    "# df['Ejection_Fraction'].replace(to_replace=\"L\", value='Low', inplace=True)\n",
    "# df['Ejection_Fraction'].replace(to_replace=\"N\", value='Normal', inplace=True)\n",
    "\n",
    "# check values\n",
    "df['Ejection_Fraction'].unique()"
   ]
  },
  {
   "cell_type": "markdown",
   "metadata": {},
   "source": [
    "### Sodium\n",
    "According to [Wannamethee, Shaper, Lennon, Papacosta, and Whincup (2016)](https://doi.org/10.1016/j.numecd.2015.07.008), low serum sodium is associated with increased risk of CVD events. <br>\n",
    "The normal range for blood sodium levels is 135 to 145 mg/dL per liter. <br>\n",
    "Hence I **assume that low sodium levels is a factor of coronary artery disease.**\n",
    "I will group the values into 2 different subsets: `low_sodium` and `normal_sodium`:"
   ]
  },
  {
   "cell_type": "code",
   "execution_count": 20,
   "metadata": {
    "scrolled": true
   },
   "outputs": [
    {
     "data": {
      "text/plain": [
       "normal_sodium    10298\n",
       "low_sodium        4145\n",
       "Name: Sodium_bin, dtype: int64"
      ]
     },
     "execution_count": 20,
     "metadata": {},
     "output_type": "execute_result"
    }
   ],
   "source": [
    "df['Sodium_bin'] = np.where(df['Sodium'] <135 , 'low_sodium', 'normal_sodium')\n",
    "\n",
    "# check\n",
    "df['Sodium_bin'].value_counts()"
   ]
  },
  {
   "cell_type": "markdown",
   "metadata": {},
   "source": [
    "### Creatinine\n",
    "According to [Bagheri et al., 2019](https://doi.org/10.5455/medarh.2019.73.154-156), serum creatinine has significant association with CAD. <br>\n",
    "A normal range is 0.7 to 1.3 mg/dL for males and 0.6 to 1.1 mg/dL for females. Women often have a lower creatinine level since they tend to have less muscle mass than men. <br>\n",
    "Hence I **assume that high creatinine levels is a factor of coronary artery disease.** I will group the values into 2 different subsets: `high_creatinine` and `normal_creatinine`:"
   ]
  },
  {
   "cell_type": "code",
   "execution_count": 21,
   "metadata": {},
   "outputs": [
    {
     "data": {
      "text/plain": [
       "normal_creatinine    14443\n",
       "Name: Creatinine_bin, dtype: int64"
      ]
     },
     "execution_count": 21,
     "metadata": {},
     "output_type": "execute_result"
    }
   ],
   "source": [
    "conditions = [(df['Gender'] == \"Male\") & (df['Creatinine'] > 1.3), (df['Gender'] == \"Female\") & (df['Creatinine'] > 1.1)]\n",
    "choices = [\"high_creatinine\", 'high_creatinine']\n",
    "    \n",
    "df[\"Creatinine_bin\"] = np.select(conditions, choices, default='normal_creatinine')\n",
    "\n",
    "# check\n",
    "df['Creatinine_bin'].value_counts()"
   ]
  },
  {
   "cell_type": "markdown",
   "metadata": {},
   "source": [
    "### Platelets\n",
    "According to [Uysal et al., 2016](https://doi.org/10.3904/kjim.2015.199), a high platelet count can help in predicting the severity of CAD before coronary interventions. <br>\n",
    "A normal platelet count ranges from 150,000 to 450,000 platelets per microliter of blood. <br>\n",
    "Hence I **assume that high platelets count is a factor of coronary artery disease.** I will group the values into 2 different subsets: `high_platelets` and `normal_platelets`:"
   ]
  },
  {
   "cell_type": "code",
   "execution_count": 22,
   "metadata": {},
   "outputs": [
    {
     "data": {
      "text/plain": [
       "normal_platelets    13814\n",
       "high_platelets        629\n",
       "Name: Platelets_bin, dtype: int64"
      ]
     },
     "execution_count": 22,
     "metadata": {},
     "output_type": "execute_result"
    }
   ],
   "source": [
    "df['Platelets_bin'] = np.where(df['Platelets'] >450000 , 'high_platelets', 'normal_platelets')\n",
    "\n",
    "# check\n",
    "df['Platelets_bin'].value_counts()"
   ]
  },
  {
   "cell_type": "markdown",
   "metadata": {},
   "source": [
    "### Creatine phosphokinase\n",
    "I am unsure of the threshold for a high level of creatine phosphokinase. <br>\n",
    "But according to [Aujla and Patel (2021)](https://www.ncbi.nlm.nih.gov/books/NBK546624/), any level more than 200 IU/L is considered high and indicates a high risk of a heart attack. <br>\n",
    "I will group the values into 2 different subsets: `high_creatine_phosphokinase` and `normal_creatine_phosphokinase`:"
   ]
  },
  {
   "cell_type": "code",
   "execution_count": 23,
   "metadata": {},
   "outputs": [],
   "source": [
    "# df['Creatine_phosphokinase_bin'] = np.where(df['Creatine_phosphokinase'] >200 , 'high_creatine_phosphokinase', 'normal_creatine_phosphokinase')\n",
    "\n",
    "# # check\n",
    "# df['Creatine_phosphokinase_bin'].value_counts()"
   ]
  },
  {
   "cell_type": "markdown",
   "metadata": {},
   "source": [
    "### Blood Pressure\n",
    "According to [Verdecchia et al., 2010](https://doi.org/10.1007/s11886-010-0112-y), a reasonable target for the optimal Blood Pressure target for patients with CAD can to be in the range of 130-140/80-90 mm Hg. Thus any values above this value is dangerous. <br>\n",
    "The first number (systolic blood pressure), measures the pressure in the arteries when the heart beats. <br>\n",
    "The second number (diastolic blood pressure), measures the pressure in the arteries when your heart rests between beats. <br>\n",
    "Hence I will **assume that the values given in the dataset are the systolic blood pressure values**. I will consider any value above 140 mm Hg as `high_bp`."
   ]
  },
  {
   "cell_type": "code",
   "execution_count": 24,
   "metadata": {},
   "outputs": [
    {
     "data": {
      "text/plain": [
       "normal_bp    11092\n",
       "high_bp       3351\n",
       "Name: Blood_Pressure_bin, dtype: int64"
      ]
     },
     "execution_count": 24,
     "metadata": {},
     "output_type": "execute_result"
    }
   ],
   "source": [
    "df['Blood_Pressure_bin'] = np.where(df['Blood_Pressure'] >140 , 'high_bp', 'normal_bp')\n",
    "\n",
    "# check\n",
    "df['Blood_Pressure_bin'].value_counts()"
   ]
  },
  {
   "cell_type": "markdown",
   "metadata": {},
   "source": [
    "### Hemoglobin\n",
    "According to [Chonchol & Nielson, 2008](10.1016/j.ahj.2007.10.031), Hemoglobin levels >= 17 or < 15 g/dL are associated with increase risk for new cardiac events. <br>\n",
    "Hence I **assume that any values outside this range is a factor of coronary artery disease.** I will group the values into 2 different subsets: `adnormal_hemoglobin` and `normal_hemoglobin`:"
   ]
  },
  {
   "cell_type": "code",
   "execution_count": 25,
   "metadata": {},
   "outputs": [
    {
     "data": {
      "text/plain": [
       "adnormal_hemoglobin    11416\n",
       "normal_hemoglobin       3027\n",
       "Name: Hemoglobin_bin, dtype: int64"
      ]
     },
     "execution_count": 25,
     "metadata": {},
     "output_type": "execute_result"
    }
   ],
   "source": [
    "df['Hemoglobin_bin'] = np.where((df['Hemoglobin'] >= 17) | (df['Hemoglobin'] < 15) , 'adnormal_hemoglobin', 'normal_hemoglobin')\n",
    "\n",
    "# check\n",
    "df['Hemoglobin_bin'].value_counts()"
   ]
  },
  {
   "cell_type": "markdown",
   "metadata": {},
   "source": [
    "### Numerical Data\n",
    "Only `Age` should remain as a numerical value instead of grouping the values into distinct age group. This is because an older patient will have a higher risk of death than a younger one. Hence it would be better to leave `Age` as a number.\n",
    "\n",
    "However, some of these values are negative. I will **assume that the negative signs were added by mistake and simply remove them**."
   ]
  },
  {
   "cell_type": "code",
   "execution_count": 26,
   "metadata": {
    "scrolled": true
   },
   "outputs": [],
   "source": [
    "df['Age'] = np.abs(df['Age'])"
   ]
  },
  {
   "cell_type": "markdown",
   "metadata": {},
   "source": [
    "## Check for Outliers\n",
    "I will use the Inter Quartile Range (IQR) method to seek out any possible outliers. <br>\n",
    "Any value that lies beyond the range of -1.5 IQR to 1.5 IQR will be counted as an outlier.\n",
    "\n",
    "IQR = Range between the 25th and 75th percentile\n",
    "\n",
    "I will also do a check for the other variables that were originally have numerical values as well."
   ]
  },
  {
   "cell_type": "code",
   "execution_count": 27,
   "metadata": {},
   "outputs": [],
   "source": [
    "def iqr_outliers(df_col):\n",
    "    out = []\n",
    "    q1 = df_col.quantile(0.25)\n",
    "    q3 = df_col.quantile(0.75)\n",
    "    iqr = q3-q1\n",
    "    \n",
    "    Lower_tail = q1 - 1.5 * iqr\n",
    "    Upper_tail = q3 + 1.5 * iqr\n",
    "    \n",
    "    for row in df_col:\n",
    "        if row > Upper_tail or row < Lower_tail:\n",
    "            out.append(row)\n",
    "            \n",
    "    print(\"Outliers for:\", df_col.name)\n",
    "    print(out)"
   ]
  },
  {
   "cell_type": "code",
   "execution_count": 28,
   "metadata": {},
   "outputs": [
    {
     "name": "stdout",
     "output_type": "stream",
     "text": [
      "Outliers for: Age\n",
      "[]\n",
      "Outliers for: Sodium\n",
      "[116, 121, 116, 116, 116, 124, 121, 116, 116, 113, 116, 116, 121, 116, 121, 124, 121, 121, 113, 121, 113, 124, 124, 124, 113, 113, 124, 124, 124, 121, 124, 116, 121, 113, 121, 116, 124, 113, 113, 121, 124, 121, 113, 124, 121, 113, 121, 116, 121, 121, 116, 121, 121, 121, 124, 116, 121, 124, 113, 124, 121, 113, 124, 116, 113, 113, 113, 116, 116, 121, 121, 121, 124, 116, 116, 116, 121, 113, 116, 113, 116, 116, 121, 116, 116, 121, 113, 113, 113, 121, 121, 113, 124, 121, 124, 124, 124, 116, 121, 116, 121, 116, 121, 116, 116, 121, 124, 121, 113, 113, 121, 116, 116, 121, 113, 121, 121, 124, 116, 124, 124, 121, 124, 116, 113, 113, 121, 113, 113, 113, 116, 116, 124, 121, 113, 116, 124, 121, 124, 116, 116, 116, 113, 116, 113, 116, 116, 116, 113, 121, 124, 124, 116, 116, 121, 116, 121, 121, 121, 121, 113, 116, 124, 113, 116, 116, 121, 124, 113, 124, 124, 121, 121, 124, 113, 116, 121, 116, 113, 116, 121, 121]\n",
      "Outliers for: Creatinine\n",
      "[2.5, 2.5, 2.3, 2.5, 2.3, 3.5, 3.8, 2.5, 2.3, 2.3, 2.3, 2.2, 9.0, 2.7, 9.4, 2.3, 5.8, 2.9, 2.7, 2.7, 2.5, 2.3, 2.3, 6.1, 2.7, 4.4, 2.9, 9.0, 4.0, 2.7, 3.8, 2.7, 2.4, 2.3, 3.5, 2.7, 2.4, 2.3, 6.1, 2.7, 2.7, 3.5, 9.0, 3.8, 2.3, 2.4, 2.7, 3.4, 2.5, 5.0, 3.4, 6.1, 2.4, 9.4, 2.4, 3.0, 2.5, 2.5, 3.4, 2.7, 9.4, 5.8, 2.9, 5.0, 2.4, 4.4, 3.5, 3.0, 5.0, 6.8, 2.3, 2.3, 3.7, 6.8, 2.2, 2.7, 3.8, 3.8, 2.5, 5.0, 3.2, 2.3, 2.5, 2.5, 3.0, 3.5, 2.3, 2.4, 3.0, 3.0, 5.8, 6.1, 3.0, 9.0, 2.7, 2.4, 5.8, 2.4, 2.9, 6.1, 2.3, 2.3, 3.5, 2.5, 2.7, 2.5, 6.1, 2.7, 4.0, 2.5, 2.5, 2.3, 2.2, 2.5, 3.8, 2.5, 2.4, 2.5, 3.0, 6.1, 2.5, 2.5, 2.5, 3.5, 2.7, 2.9, 2.9, 2.4, 3.0, 3.0, 2.7, 3.5, 3.2, 2.2, 6.1, 5.8, 2.2, 2.4, 5.8, 2.7, 2.4, 2.7, 6.1, 3.7, 5.0, 2.5, 2.7, 2.7, 5.0, 3.0, 9.4, 5.8, 3.5, 3.2, 9.0, 3.0, 2.4, 6.1, 2.2, 4.0, 2.9, 4.4, 2.5, 3.7, 5.8, 3.0, 9.4, 3.4, 3.0, 4.4, 2.7, 2.5, 9.0, 2.3, 3.2, 2.2, 2.2, 4.4, 9.4, 3.7, 3.0, 5.8, 2.2, 4.4, 2.5, 2.7, 2.3, 3.0, 3.0, 2.2, 6.8, 3.7, 2.3, 2.5, 6.8, 2.2, 3.0, 3.0, 9.4, 2.5, 5.8, 2.3, 4.0, 3.0, 3.5, 2.2, 5.8, 9.4, 2.3, 2.7, 5.8, 2.3, 3.8, 4.0, 3.7, 2.3, 3.0, 3.5, 3.5, 2.5, 5.0, 4.0, 6.8, 3.5, 6.1, 4.4, 4.0, 3.4, 3.5, 3.7, 2.9, 4.0, 2.5, 2.2, 3.5, 2.7, 2.5, 2.2, 3.8, 2.2, 3.2, 2.2, 3.5, 3.0, 2.3, 4.0, 2.5, 2.4, 2.5, 3.2, 3.7, 2.4, 2.5, 9.4, 3.5, 3.0, 3.7, 2.5, 2.3, 5.0, 2.7, 2.7, 6.1, 2.2, 2.3, 6.8, 2.4, 3.0, 3.2, 3.2, 2.5, 2.4, 2.3, 2.7, 3.0, 3.7, 3.0, 2.3, 9.0, 4.4, 6.8, 3.0, 3.2, 5.8, 4.4, 2.9, 2.3, 3.0, 4.0, 2.5, 5.0, 2.2, 2.9, 6.8, 2.3, 3.0, 2.4, 3.8, 2.4, 4.4, 2.2, 2.5, 2.4, 6.1, 2.3, 3.4, 3.7, 2.5, 2.5, 2.5, 2.5, 3.5, 3.5, 9.0, 5.8, 2.3, 4.0, 2.4, 2.9, 9.4, 3.5, 3.0, 6.8, 3.2, 2.9, 3.8, 3.0, 2.4, 9.4, 9.4, 4.0, 2.5, 2.9, 2.9, 3.8, 6.1, 3.0, 2.5, 2.9, 2.5, 2.3, 3.4, 5.8, 3.2, 6.8, 3.7, 3.4, 3.4, 2.2, 2.5, 3.7, 6.8, 3.4, 2.5, 2.7, 3.0, 2.3, 2.5, 2.3, 2.3, 9.0, 3.4, 2.4, 3.5, 2.3, 2.5, 5.8, 2.7, 3.5, 3.0, 2.7, 3.0, 3.4, 2.4, 2.9, 2.5, 9.4, 3.0, 3.4, 2.5, 2.5, 2.7, 3.2, 2.3, 3.5, 9.0, 4.4, 3.5, 2.7, 5.8, 2.5, 3.2, 2.9, 6.1, 2.7, 2.2, 9.4, 9.4, 2.7, 4.0, 3.2, 2.5, 5.0, 2.7, 3.5, 2.3, 3.7, 4.4, 2.9, 3.7, 3.5, 2.9, 2.7, 2.7, 2.7, 3.7, 3.2, 2.5, 2.5, 5.0, 5.0, 2.7, 2.3, 3.4, 2.3, 3.5, 3.0, 2.5, 4.4, 4.0, 3.4, 3.2, 9.4, 2.3, 4.0, 9.4, 3.5, 2.3, 3.5, 2.3, 3.5, 9.0, 2.3, 6.1, 5.0, 2.7, 6.8, 2.5, 5.0, 2.7, 6.1, 9.0, 2.4, 2.3, 6.8, 9.0, 3.2, 2.3, 2.3, 2.5, 9.4, 2.4, 3.2, 3.0, 2.3, 2.7, 9.0, 3.5, 2.5, 3.2, 2.5, 2.5, 2.3, 6.1, 2.9, 5.0, 2.7, 2.3, 2.3, 5.0, 2.7, 4.0, 2.3, 6.1, 2.3, 3.2, 6.8, 2.7, 9.4, 9.0, 2.3, 3.7, 2.5, 2.4, 6.1, 2.7, 2.3, 3.0, 5.8, 5.0, 3.4, 3.5, 2.5, 2.4, 2.5, 9.0, 2.5, 3.5, 2.3, 3.4, 2.7, 3.8, 6.1, 2.3, 2.4, 3.8, 2.3, 2.4, 2.7, 4.0, 3.2, 2.4, 3.8, 2.4, 3.2, 2.5, 2.3, 6.8, 3.7, 6.1, 2.5, 2.5, 6.8, 5.0, 6.8, 2.2, 3.0, 2.2, 2.9, 5.8, 4.0, 3.2, 6.8, 2.4, 3.0, 6.1, 2.5, 4.4, 2.9, 3.7, 3.5, 4.4, 3.7, 3.4, 2.9, 2.7, 6.8, 5.0, 3.0, 2.5, 2.3, 2.3, 9.4, 6.8, 6.8, 5.8, 2.4, 2.4, 9.0, 2.5, 2.7, 5.8, 9.4, 6.1, 4.0, 2.3, 6.8, 3.4, 3.7, 3.5, 2.5, 3.8, 4.4, 2.5, 2.3, 2.2, 3.5, 2.7, 3.0, 2.9, 2.4, 6.1, 2.5, 3.2, 3.0, 4.4, 2.4, 2.7, 6.8, 2.7, 2.3, 9.0, 2.5, 4.0, 2.4, 3.7, 6.8, 2.9, 6.1, 2.4, 3.0, 3.7, 9.4, 2.5, 2.4, 2.5, 3.0, 2.4, 3.0, 6.1, 2.7, 2.3, 9.0, 2.9, 2.5, 3.5, 2.4, 2.5, 5.0, 3.4, 3.0, 9.4, 2.5, 2.7, 3.4, 9.0, 2.3, 2.4, 3.5, 2.5, 4.4, 2.9, 2.4, 4.0, 3.5, 2.7, 2.4, 2.5, 2.2, 3.4, 2.3, 2.3, 3.0, 6.8, 2.7, 3.2, 9.4, 2.3, 2.7, 2.2, 2.4, 2.5, 2.5, 3.8, 2.9, 4.0, 2.7, 5.0, 2.3, 2.9, 2.3, 3.0, 3.4, 2.7, 3.0, 5.8, 5.8, 2.4, 2.4, 2.5, 3.5, 3.4, 2.4, 3.0, 5.8, 4.0, 2.3, 2.7, 3.0, 2.2, 3.0, 6.1, 4.0, 2.5, 2.2, 2.7, 3.5, 2.3, 4.0, 5.8, 9.0, 2.3, 2.7, 3.4, 3.0, 3.8, 3.7, 2.2, 5.8, 2.3, 5.8, 2.4, 2.3, 2.9, 3.7, 3.4, 4.4, 3.5, 6.8, 2.3, 2.5, 2.9, 9.0, 3.8, 3.4, 2.4, 9.0, 2.2, 3.2, 5.8, 6.8, 2.7, 2.5, 2.7, 2.5, 2.4, 5.8, 5.8, 6.1, 5.0, 5.8, 3.5, 2.3, 3.8, 2.5, 2.7, 3.0, 3.0, 6.1, 2.2, 2.3, 6.8, 2.9, 2.3, 4.4, 3.5, 3.0, 3.5, 6.1, 5.8, 5.8, 4.4, 2.7, 9.4, 2.5, 2.5, 2.5, 2.4, 2.2, 5.0, 2.7, 5.0, 3.2, 2.5, 4.0, 3.5, 2.9, 2.5, 2.5, 2.3, 2.3, 6.8, 9.4, 2.3, 2.5, 5.0, 4.4, 3.5, 4.4, 3.7, 3.7, 6.8, 3.4, 2.2, 6.8, 5.0, 2.5, 2.7, 2.2, 3.4, 2.5, 9.0, 3.5, 5.8, 3.7, 2.3, 2.5, 4.0, 9.0, 3.5, 3.4, 2.2, 9.4, 3.5, 4.4, 3.5, 5.0, 2.3, 4.0, 2.7, 2.4, 3.0, 3.4, 9.0, 9.4, 4.0, 2.4, 2.4, 2.4, 3.5, 3.5, 2.5, 6.1, 3.0, 2.7, 5.8, 3.5, 2.3, 2.3, 2.5, 2.2, 2.7, 5.8, 2.5, 6.1, 2.7, 2.7, 2.4, 3.8, 2.3, 2.4, 2.3, 3.8, 2.9, 2.7, 3.2, 2.3, 9.0, 6.1, 2.2, 4.4, 3.0, 3.5, 3.8, 4.0, 2.3, 4.4, 6.1, 2.4, 2.7, 3.2, 3.4, 3.4, 2.2, 2.5, 3.7, 2.9, 2.5, 2.5, 9.0, 9.0, 3.2, 2.7, 3.5, 2.4, 3.4, 3.4, 4.4, 9.0, 2.5, 2.3, 3.7, 2.3, 3.5, 2.7, 2.9, 5.0, 3.5, 6.8, 2.5, 2.7, 5.0, 5.0, 2.3, 5.8, 2.7, 2.2, 2.5, 3.0, 2.3, 5.8, 2.7, 2.7, 2.9, 2.3, 3.2, 4.4, 4.0, 2.5, 3.4, 3.0, 2.3, 2.5, 4.0, 2.9, 2.2, 4.4, 3.5, 2.7, 2.5, 3.0, 3.8, 2.4, 2.5, 3.0, 5.8, 5.0, 3.4, 3.4, 9.0, 2.5, 3.2, 2.9, 4.4, 2.3, 5.0, 2.2, 2.2, 2.5, 2.3, 2.4, 2.5, 6.1, 2.9, 9.0, 9.4, 2.4, 2.7, 4.4, 2.5, 2.7, 2.3, 3.4, 2.2, 2.4, 9.0, 2.2, 2.7, 9.0, 6.8, 3.7, 3.5, 3.0, 3.7, 2.3, 3.0, 2.3, 2.7, 2.3, 2.5, 2.7, 2.7, 3.5, 5.0, 6.8, 9.0, 9.0, 2.5, 3.2, 2.3, 4.4, 2.3, 3.7, 2.5, 3.2, 2.3, 3.5, 2.3, 2.3, 2.9, 3.2, 3.5, 2.3, 2.5, 2.4, 2.7, 9.0, 2.9, 2.4, 5.8, 2.4, 9.0, 3.7, 3.2, 2.3, 2.4, 2.4, 6.8, 2.3, 3.5, 2.3, 4.0, 4.0, 9.0, 2.4, 2.3, 3.0, 5.8, 2.5, 2.3, 3.5, 2.7, 5.8, 2.3, 2.5, 2.5, 5.0, 2.9, 3.7, 2.7, 2.3, 2.4, 3.0, 2.2, 2.7, 5.8, 4.0, 3.2, 9.4, 2.7, 2.7, 3.4, 3.0, 2.4, 2.5, 4.0, 2.5, 2.5, 4.4, 2.9, 2.7, 3.7, 2.4, 2.9, 3.0, 3.2, 9.0, 4.4, 3.7, 9.4, 2.9, 5.0, 6.1, 3.8, 3.5, 3.2, 3.5, 2.5, 2.3, 3.5, 9.4, 6.8, 2.9, 3.4, 5.8, 5.8, 3.7, 2.4, 2.3, 5.8, 3.7, 2.5, 2.2, 2.5, 3.8, 3.8, 2.7, 9.4, 2.5, 3.5, 3.4, 2.7, 2.7, 2.3, 2.2, 2.9, 2.7, 4.4, 5.0, 5.8, 9.4, 2.5, 3.0, 5.0, 2.7, 3.2, 2.3, 2.7, 5.8, 2.3, 3.5, 2.5, 2.4, 2.3, 2.4, 6.8, 5.8, 2.3, 2.3, 4.0, 5.8, 2.3, 4.4, 3.0, 6.1, 4.0, 9.0, 2.2, 4.4, 3.2, 5.0, 5.0, 3.0, 3.7, 3.5, 2.3, 2.4, 4.0, 2.5, 4.0, 4.4, 2.7, 3.5, 3.2, 3.2, 3.2, 3.4, 2.3, 2.2, 2.3, 2.7, 9.4, 3.5, 2.3, 5.8, 9.4, 2.5, 3.0, 2.7, 2.7, 3.2, 5.0, 2.7, 5.0, 3.8, 2.7, 5.0, 2.9, 4.0, 2.5, 2.4, 6.1, 3.2, 2.2, 2.7, 5.8, 6.1, 2.3, 3.0, 3.5, 2.4, 5.8, 2.2, 3.5, 3.8, 2.7, 2.2, 4.4, 6.1, 2.5, 2.4, 2.3, 2.7, 3.7, 3.4, 2.5, 5.0, 2.5, 3.5, 6.8, 5.8, 5.0, 2.4, 2.5, 2.3, 2.2, 3.2, 2.5, 2.3, 2.7, 3.0, 3.0, 2.3, 3.2, 2.5, 3.5, 6.1, 3.0, 3.0, 9.0, 2.3, 2.5, 2.9, 2.3, 2.2, 2.5, 2.3, 2.9, 2.4, 3.7, 2.5, 3.5, 2.4, 9.4, 2.7, 3.5, 3.5, 2.7, 9.0, 3.5, 6.8, 3.0, 2.3, 2.5, 3.8, 9.4, 2.2, 4.4, 9.4, 6.8, 3.4, 9.4, 3.2, 2.7, 2.4, 2.5, 3.5, 2.7, 2.4, 3.5, 2.3, 3.5, 2.2, 2.7, 2.2, 2.7, 2.5, 2.4, 2.9, 6.1, 2.3, 2.2, 2.7, 3.7, 3.4, 3.4, 5.8, 2.5, 2.4, 2.9, 2.7, 2.7, 2.7, 3.7, 4.0, 5.0, 2.5, 6.1, 2.2, 2.7, 5.0, 2.4, 2.7, 3.5, 9.4, 9.4, 2.9, 3.0, 2.7, 3.8, 2.7, 2.3, 3.0, 2.9, 2.7, 3.5, 6.8, 2.4, 2.9, 3.0, 2.4, 9.0, 4.4, 3.0, 9.4, 4.4, 3.7, 2.5, 2.5, 2.9, 2.5, 2.2, 2.3, 2.4, 6.1, 2.5, 3.2, 2.7, 3.2, 5.8, 3.4, 3.0, 3.5, 3.8, 4.0, 2.4, 5.0, 2.5, 2.4, 3.5, 4.0, 5.8, 2.4, 3.2, 2.7, 3.5, 2.7, 2.5, 3.2, 2.3, 4.4, 5.8, 3.5, 2.7, 2.5, 2.5, 4.4, 2.5, 2.5, 2.4, 2.5, 2.2, 4.0, 3.0, 9.4, 6.8, 3.5, 3.8, 2.4, 6.8, 2.5, 2.5, 5.8, 2.3, 3.5, 2.4, 6.1, 3.0, 2.4, 9.4, 2.3, 2.7, 3.5, 3.0, 3.0, 2.3, 2.7, 2.4, 5.8, 2.3, 2.3, 2.5, 5.8, 2.5, 2.2, 5.8, 2.3, 2.9, 3.7, 3.7, 3.0, 4.4, 3.4, 2.2, 2.3, 2.5, 2.3, 2.5, 9.0, 2.5, 2.5, 5.8, 5.0, 2.9, 4.0, 2.4, 2.7, 2.5, 2.5, 6.1, 6.8, 3.7, 9.4, 4.0, 2.9, 2.9, 2.5, 4.0, 2.5, 2.7, 3.0, 2.5, 2.3, 2.7, 3.7, 3.5, 2.7, 2.7, 6.1, 3.4, 6.8, 2.7, 3.7, 4.4, 3.5, 9.0, 5.8, 5.8, 2.3, 9.0, 2.7, 3.8, 3.4, 6.1, 3.5, 2.3, 2.2, 3.8, 2.4, 3.7, 6.8, 2.5, 2.7, 2.4, 3.5, 2.3, 9.4, 3.5, 3.5, 5.0, 2.7, 2.3, 2.4, 9.4, 9.4, 5.8, 2.4, 9.4, 5.8, 2.5, 3.4, 2.7, 2.2, 3.0, 2.7, 3.2, 4.4, 3.5, 2.3, 4.0, 2.5, 2.9, 2.9, 3.5, 3.5, 2.3, 3.5, 3.7, 2.5, 2.4, 2.5, 3.0, 2.4]\n",
      "Outliers for: Platelets\n",
      "[62000.0, 533000.0, 543000.0, 742000.0, 481000.0, 461000.0, 25100.0, 51000.0, 62000.0, 533000.0, 533000.0, 62000.0, 70000.0, 451000.0, 62000.0, 448000.0, 25100.0, 850000.0, 451000.0, 451000.0, 543000.0, 454000.0, 70000.0, 62000.0, 742000.0, 533000.0, 543000.0, 481000.0, 451000.0, 70000.0, 543000.0, 850000.0, 461000.0, 850000.0, 25100.0, 621000.0, 507000.0, 742000.0, 481000.0, 621000.0, 448000.0, 70000.0, 62000.0, 451000.0, 51000.0, 543000.0, 543000.0, 543000.0, 850000.0, 742000.0, 47000.0, 51000.0, 70000.0, 25100.0, 481000.0, 448000.0, 47000.0, 448000.0, 454000.0, 621000.0, 70000.0, 850000.0, 461000.0, 451000.0, 47000.0, 533000.0, 507000.0, 850000.0, 504000.0, 62000.0, 70000.0, 448000.0, 543000.0, 70000.0, 51000.0, 621000.0, 543000.0, 51000.0, 448000.0, 507000.0, 448000.0, 850000.0, 70000.0, 461000.0, 504000.0, 448000.0, 850000.0, 451000.0, 543000.0, 51000.0, 850000.0, 507000.0, 62000.0, 454000.0, 461000.0, 481000.0, 451000.0, 621000.0, 62000.0, 481000.0, 504000.0, 742000.0, 850000.0, 451000.0, 481000.0, 47000.0, 51000.0, 742000.0, 461000.0, 497000.0, 451000.0, 504000.0, 461000.0, 451000.0, 481000.0, 47000.0, 454000.0, 62000.0, 621000.0, 448000.0, 451000.0, 507000.0, 504000.0, 62000.0, 62000.0, 62000.0, 70000.0, 850000.0, 507000.0, 25100.0, 47000.0, 451000.0, 543000.0, 62000.0, 70000.0, 621000.0, 507000.0, 507000.0, 454000.0, 742000.0, 504000.0, 504000.0, 451000.0, 507000.0, 451000.0, 504000.0, 543000.0, 850000.0, 451000.0, 70000.0, 70000.0, 70000.0, 543000.0, 481000.0, 742000.0, 62000.0, 461000.0, 25100.0, 850000.0, 742000.0, 621000.0, 742000.0, 621000.0, 507000.0, 621000.0, 70000.0, 451000.0, 461000.0, 47000.0, 497000.0, 481000.0, 533000.0, 62000.0, 451000.0, 504000.0, 451000.0, 451000.0, 454000.0, 481000.0, 481000.0, 461000.0, 62000.0, 507000.0, 62000.0, 454000.0, 742000.0, 742000.0, 454000.0, 497000.0, 850000.0, 451000.0, 742000.0, 497000.0, 25100.0, 504000.0, 454000.0, 533000.0, 543000.0, 850000.0, 51000.0, 451000.0, 451000.0, 533000.0, 621000.0, 850000.0, 70000.0, 47000.0, 497000.0, 448000.0, 507000.0, 51000.0, 543000.0, 25100.0, 850000.0, 507000.0, 497000.0, 51000.0, 481000.0, 504000.0, 461000.0, 51000.0, 47000.0, 504000.0, 507000.0, 25100.0, 454000.0, 543000.0, 454000.0, 504000.0, 454000.0, 51000.0, 51000.0, 850000.0, 507000.0, 451000.0, 62000.0, 47000.0, 497000.0, 62000.0, 454000.0, 507000.0, 621000.0, 451000.0, 461000.0, 497000.0, 51000.0, 461000.0, 621000.0, 451000.0, 621000.0, 507000.0, 62000.0, 70000.0, 507000.0, 533000.0, 481000.0, 451000.0, 850000.0, 543000.0, 451000.0, 543000.0, 451000.0, 448000.0, 507000.0, 451000.0, 481000.0, 850000.0, 451000.0, 461000.0, 533000.0, 497000.0, 51000.0, 850000.0, 448000.0, 507000.0, 47000.0, 481000.0, 451000.0, 70000.0, 448000.0, 47000.0, 742000.0, 454000.0, 504000.0, 461000.0, 62000.0, 448000.0, 448000.0, 850000.0, 497000.0, 448000.0, 742000.0, 621000.0, 448000.0, 51000.0, 621000.0, 507000.0, 621000.0, 481000.0, 451000.0, 543000.0, 507000.0, 481000.0, 621000.0, 742000.0, 507000.0, 533000.0, 70000.0, 497000.0, 621000.0, 850000.0, 497000.0, 543000.0, 25100.0, 481000.0, 543000.0, 621000.0, 62000.0, 70000.0, 543000.0, 461000.0, 51000.0, 850000.0, 533000.0, 497000.0, 543000.0, 543000.0, 47000.0, 481000.0, 461000.0, 543000.0, 25100.0, 504000.0, 481000.0, 543000.0, 454000.0, 448000.0, 70000.0, 497000.0, 25100.0, 62000.0, 507000.0, 51000.0, 543000.0, 543000.0, 543000.0, 448000.0, 451000.0, 533000.0, 70000.0, 461000.0, 62000.0, 25100.0, 481000.0, 533000.0, 481000.0, 621000.0, 451000.0, 504000.0, 504000.0, 70000.0, 62000.0, 481000.0, 70000.0, 454000.0, 451000.0, 62000.0, 25100.0, 70000.0, 504000.0, 543000.0, 481000.0, 497000.0, 742000.0, 47000.0, 850000.0, 481000.0, 507000.0, 25100.0, 70000.0, 504000.0, 454000.0, 850000.0, 454000.0, 497000.0, 70000.0, 448000.0, 47000.0, 451000.0, 543000.0, 70000.0, 621000.0, 47000.0, 51000.0, 504000.0, 451000.0, 451000.0, 62000.0, 47000.0, 62000.0, 47000.0, 25100.0, 504000.0, 543000.0, 742000.0, 481000.0, 70000.0, 621000.0, 533000.0, 25100.0, 850000.0, 448000.0, 25100.0, 454000.0, 62000.0, 481000.0, 507000.0, 51000.0, 47000.0, 621000.0, 451000.0, 543000.0, 543000.0, 533000.0, 451000.0, 62000.0, 51000.0, 621000.0, 62000.0, 451000.0, 448000.0, 51000.0, 504000.0, 533000.0, 454000.0, 621000.0, 507000.0, 533000.0, 451000.0, 504000.0, 454000.0, 451000.0, 497000.0, 62000.0, 451000.0, 742000.0, 62000.0, 533000.0, 25100.0, 62000.0, 504000.0, 621000.0, 504000.0, 51000.0, 451000.0, 543000.0, 481000.0, 461000.0, 451000.0, 62000.0, 461000.0, 461000.0, 451000.0, 621000.0, 448000.0, 448000.0, 51000.0, 62000.0, 454000.0, 533000.0, 70000.0, 451000.0, 850000.0, 742000.0, 70000.0, 850000.0, 850000.0, 448000.0, 47000.0, 497000.0, 454000.0, 62000.0, 543000.0, 497000.0, 51000.0, 742000.0, 461000.0, 47000.0, 621000.0, 742000.0, 70000.0, 850000.0, 497000.0, 507000.0, 461000.0, 742000.0, 70000.0, 850000.0, 507000.0, 850000.0, 497000.0, 448000.0, 507000.0, 448000.0, 543000.0, 70000.0, 451000.0, 451000.0, 543000.0, 497000.0, 504000.0, 497000.0, 25100.0, 742000.0, 481000.0, 481000.0, 621000.0, 504000.0, 497000.0, 742000.0, 533000.0, 850000.0, 742000.0, 25100.0, 504000.0, 47000.0, 51000.0, 47000.0, 742000.0, 51000.0, 25100.0, 507000.0, 481000.0, 543000.0, 533000.0, 543000.0, 70000.0, 461000.0, 454000.0, 454000.0, 454000.0, 621000.0, 621000.0, 507000.0, 742000.0, 621000.0, 62000.0, 742000.0, 742000.0, 621000.0, 47000.0, 454000.0, 70000.0, 62000.0, 533000.0, 62000.0, 451000.0, 451000.0, 62000.0, 621000.0, 543000.0, 504000.0, 742000.0, 25100.0, 461000.0, 850000.0, 454000.0, 25100.0, 454000.0, 451000.0, 507000.0, 507000.0, 62000.0, 481000.0, 507000.0, 62000.0, 70000.0, 461000.0, 70000.0, 621000.0, 507000.0, 454000.0, 504000.0, 543000.0, 25100.0, 543000.0, 497000.0, 533000.0, 504000.0, 451000.0, 25100.0, 451000.0, 742000.0, 47000.0, 62000.0, 451000.0, 25100.0, 481000.0, 507000.0, 504000.0, 850000.0, 481000.0, 62000.0, 454000.0, 504000.0, 70000.0, 451000.0, 70000.0, 451000.0, 507000.0, 62000.0, 497000.0, 47000.0, 451000.0, 461000.0, 507000.0, 621000.0, 454000.0, 481000.0, 621000.0, 533000.0, 481000.0, 47000.0, 451000.0, 47000.0, 742000.0, 51000.0, 497000.0, 850000.0, 533000.0, 454000.0, 504000.0, 850000.0, 504000.0, 850000.0, 621000.0, 533000.0, 504000.0, 504000.0, 507000.0, 621000.0, 451000.0, 481000.0, 51000.0, 70000.0, 451000.0, 70000.0, 481000.0, 25100.0, 47000.0, 497000.0, 504000.0, 507000.0, 533000.0, 742000.0, 497000.0, 62000.0, 70000.0, 481000.0, 25100.0, 507000.0, 507000.0, 507000.0, 451000.0, 533000.0, 533000.0, 47000.0, 497000.0, 481000.0, 507000.0, 451000.0, 497000.0, 454000.0, 850000.0, 850000.0, 454000.0, 497000.0, 507000.0, 51000.0, 621000.0, 504000.0, 448000.0, 497000.0, 62000.0, 451000.0, 504000.0, 621000.0, 51000.0, 62000.0, 454000.0, 448000.0, 451000.0, 454000.0, 543000.0, 504000.0, 497000.0, 507000.0, 451000.0, 451000.0, 51000.0, 497000.0, 448000.0, 507000.0, 454000.0, 70000.0, 70000.0, 51000.0, 461000.0, 25100.0, 481000.0, 850000.0, 451000.0, 621000.0, 742000.0, 742000.0, 533000.0, 481000.0, 454000.0, 543000.0, 454000.0, 507000.0, 448000.0, 497000.0, 448000.0, 70000.0, 497000.0, 454000.0, 47000.0, 742000.0, 51000.0, 70000.0, 25100.0, 533000.0, 25100.0, 621000.0, 448000.0, 850000.0, 533000.0, 742000.0, 454000.0, 497000.0, 497000.0, 51000.0, 47000.0, 25100.0, 850000.0, 448000.0, 497000.0, 621000.0, 51000.0, 504000.0, 497000.0, 497000.0, 451000.0, 25100.0, 533000.0, 850000.0, 451000.0, 850000.0, 51000.0, 497000.0, 543000.0, 70000.0, 543000.0, 850000.0, 461000.0, 481000.0, 451000.0, 543000.0, 621000.0, 497000.0, 461000.0, 481000.0, 47000.0, 481000.0, 507000.0, 62000.0, 451000.0, 47000.0, 25100.0, 497000.0, 507000.0, 454000.0, 448000.0, 25100.0, 454000.0, 533000.0, 70000.0, 621000.0, 451000.0, 621000.0, 481000.0, 448000.0, 543000.0, 70000.0, 454000.0, 451000.0, 507000.0, 451000.0, 543000.0, 454000.0, 543000.0, 507000.0, 461000.0, 481000.0, 47000.0, 454000.0, 497000.0, 451000.0, 448000.0, 70000.0, 543000.0, 47000.0, 25100.0, 454000.0, 850000.0, 533000.0, 742000.0, 451000.0, 850000.0, 25100.0, 454000.0, 62000.0, 47000.0, 451000.0, 70000.0, 25100.0, 621000.0, 543000.0, 497000.0, 62000.0, 451000.0, 621000.0, 62000.0, 533000.0, 451000.0, 621000.0, 448000.0, 47000.0, 742000.0, 497000.0, 62000.0, 70000.0, 451000.0, 451000.0, 481000.0, 543000.0, 742000.0, 543000.0, 621000.0, 621000.0, 621000.0, 25100.0, 850000.0, 454000.0, 481000.0, 47000.0, 47000.0, 451000.0, 461000.0, 25100.0, 742000.0, 461000.0, 51000.0, 850000.0, 51000.0, 543000.0, 51000.0, 451000.0, 504000.0, 451000.0, 448000.0, 497000.0, 25100.0, 454000.0, 504000.0, 448000.0, 47000.0, 742000.0, 62000.0, 25100.0, 47000.0, 481000.0, 621000.0, 62000.0, 533000.0, 451000.0, 62000.0, 621000.0, 533000.0, 850000.0, 497000.0, 70000.0, 504000.0, 481000.0, 451000.0, 451000.0, 47000.0, 451000.0, 448000.0, 850000.0, 51000.0, 62000.0, 51000.0, 461000.0, 507000.0, 62000.0, 454000.0, 533000.0, 481000.0, 70000.0, 481000.0, 454000.0]\n",
      "Outliers for: Blood_Pressure\n",
      "[]\n",
      "Outliers for: Hemoglobin\n",
      "[]\n",
      "80.8 ms ± 0 ns per loop (mean ± std. dev. of 1 run, 1 loop each)\n"
     ]
    }
   ],
   "source": [
    "%%timeit -n1 -r1\n",
    "\n",
    "# improvement #3\n",
    "# replace for loop with apply()\n",
    "\n",
    "# apply iqr_outliers function on each column\n",
    "\n",
    "# columns to check for outliers\n",
    "num_list = ['Age', 'Sodium', 'Creatinine', 'Platelets', 'Blood_Pressure', 'Hemoglobin']\n",
    "\n",
    "df[num_list].apply(iqr_outliers, axis=0)"
   ]
  },
  {
   "cell_type": "code",
   "execution_count": 29,
   "metadata": {},
   "outputs": [
    {
     "name": "stdout",
     "output_type": "stream",
     "text": [
      "Outliers for: Age\n",
      "[]\n",
      "Outliers for: Sodium\n",
      "[116, 121, 116, 116, 116, 124, 121, 116, 116, 113, 116, 116, 121, 116, 121, 124, 121, 121, 113, 121, 113, 124, 124, 124, 113, 113, 124, 124, 124, 121, 124, 116, 121, 113, 121, 116, 124, 113, 113, 121, 124, 121, 113, 124, 121, 113, 121, 116, 121, 121, 116, 121, 121, 121, 124, 116, 121, 124, 113, 124, 121, 113, 124, 116, 113, 113, 113, 116, 116, 121, 121, 121, 124, 116, 116, 116, 121, 113, 116, 113, 116, 116, 121, 116, 116, 121, 113, 113, 113, 121, 121, 113, 124, 121, 124, 124, 124, 116, 121, 116, 121, 116, 121, 116, 116, 121, 124, 121, 113, 113, 121, 116, 116, 121, 113, 121, 121, 124, 116, 124, 124, 121, 124, 116, 113, 113, 121, 113, 113, 113, 116, 116, 124, 121, 113, 116, 124, 121, 124, 116, 116, 116, 113, 116, 113, 116, 116, 116, 113, 121, 124, 124, 116, 116, 121, 116, 121, 121, 121, 121, 113, 116, 124, 113, 116, 116, 121, 124, 113, 124, 124, 121, 121, 124, 113, 116, 121, 116, 113, 116, 121, 121]\n",
      "Outliers for: Creatinine\n",
      "[2.5, 2.5, 2.3, 2.5, 2.3, 3.5, 3.8, 2.5, 2.3, 2.3, 2.3, 2.2, 9.0, 2.7, 9.4, 2.3, 5.8, 2.9, 2.7, 2.7, 2.5, 2.3, 2.3, 6.1, 2.7, 4.4, 2.9, 9.0, 4.0, 2.7, 3.8, 2.7, 2.4, 2.3, 3.5, 2.7, 2.4, 2.3, 6.1, 2.7, 2.7, 3.5, 9.0, 3.8, 2.3, 2.4, 2.7, 3.4, 2.5, 5.0, 3.4, 6.1, 2.4, 9.4, 2.4, 3.0, 2.5, 2.5, 3.4, 2.7, 9.4, 5.8, 2.9, 5.0, 2.4, 4.4, 3.5, 3.0, 5.0, 6.8, 2.3, 2.3, 3.7, 6.8, 2.2, 2.7, 3.8, 3.8, 2.5, 5.0, 3.2, 2.3, 2.5, 2.5, 3.0, 3.5, 2.3, 2.4, 3.0, 3.0, 5.8, 6.1, 3.0, 9.0, 2.7, 2.4, 5.8, 2.4, 2.9, 6.1, 2.3, 2.3, 3.5, 2.5, 2.7, 2.5, 6.1, 2.7, 4.0, 2.5, 2.5, 2.3, 2.2, 2.5, 3.8, 2.5, 2.4, 2.5, 3.0, 6.1, 2.5, 2.5, 2.5, 3.5, 2.7, 2.9, 2.9, 2.4, 3.0, 3.0, 2.7, 3.5, 3.2, 2.2, 6.1, 5.8, 2.2, 2.4, 5.8, 2.7, 2.4, 2.7, 6.1, 3.7, 5.0, 2.5, 2.7, 2.7, 5.0, 3.0, 9.4, 5.8, 3.5, 3.2, 9.0, 3.0, 2.4, 6.1, 2.2, 4.0, 2.9, 4.4, 2.5, 3.7, 5.8, 3.0, 9.4, 3.4, 3.0, 4.4, 2.7, 2.5, 9.0, 2.3, 3.2, 2.2, 2.2, 4.4, 9.4, 3.7, 3.0, 5.8, 2.2, 4.4, 2.5, 2.7, 2.3, 3.0, 3.0, 2.2, 6.8, 3.7, 2.3, 2.5, 6.8, 2.2, 3.0, 3.0, 9.4, 2.5, 5.8, 2.3, 4.0, 3.0, 3.5, 2.2, 5.8, 9.4, 2.3, 2.7, 5.8, 2.3, 3.8, 4.0, 3.7, 2.3, 3.0, 3.5, 3.5, 2.5, 5.0, 4.0, 6.8, 3.5, 6.1, 4.4, 4.0, 3.4, 3.5, 3.7, 2.9, 4.0, 2.5, 2.2, 3.5, 2.7, 2.5, 2.2, 3.8, 2.2, 3.2, 2.2, 3.5, 3.0, 2.3, 4.0, 2.5, 2.4, 2.5, 3.2, 3.7, 2.4, 2.5, 9.4, 3.5, 3.0, 3.7, 2.5, 2.3, 5.0, 2.7, 2.7, 6.1, 2.2, 2.3, 6.8, 2.4, 3.0, 3.2, 3.2, 2.5, 2.4, 2.3, 2.7, 3.0, 3.7, 3.0, 2.3, 9.0, 4.4, 6.8, 3.0, 3.2, 5.8, 4.4, 2.9, 2.3, 3.0, 4.0, 2.5, 5.0, 2.2, 2.9, 6.8, 2.3, 3.0, 2.4, 3.8, 2.4, 4.4, 2.2, 2.5, 2.4, 6.1, 2.3, 3.4, 3.7, 2.5, 2.5, 2.5, 2.5, 3.5, 3.5, 9.0, 5.8, 2.3, 4.0, 2.4, 2.9, 9.4, 3.5, 3.0, 6.8, 3.2, 2.9, 3.8, 3.0, 2.4, 9.4, 9.4, 4.0, 2.5, 2.9, 2.9, 3.8, 6.1, 3.0, 2.5, 2.9, 2.5, 2.3, 3.4, 5.8, 3.2, 6.8, 3.7, 3.4, 3.4, 2.2, 2.5, 3.7, 6.8, 3.4, 2.5, 2.7, 3.0, 2.3, 2.5, 2.3, 2.3, 9.0, 3.4, 2.4, 3.5, 2.3, 2.5, 5.8, 2.7, 3.5, 3.0, 2.7, 3.0, 3.4, 2.4, 2.9, 2.5, 9.4, 3.0, 3.4, 2.5, 2.5, 2.7, 3.2, 2.3, 3.5, 9.0, 4.4, 3.5, 2.7, 5.8, 2.5, 3.2, 2.9, 6.1, 2.7, 2.2, 9.4, 9.4, 2.7, 4.0, 3.2, 2.5, 5.0, 2.7, 3.5, 2.3, 3.7, 4.4, 2.9, 3.7, 3.5, 2.9, 2.7, 2.7, 2.7, 3.7, 3.2, 2.5, 2.5, 5.0, 5.0, 2.7, 2.3, 3.4, 2.3, 3.5, 3.0, 2.5, 4.4, 4.0, 3.4, 3.2, 9.4, 2.3, 4.0, 9.4, 3.5, 2.3, 3.5, 2.3, 3.5, 9.0, 2.3, 6.1, 5.0, 2.7, 6.8, 2.5, 5.0, 2.7, 6.1, 9.0, 2.4, 2.3, 6.8, 9.0, 3.2, 2.3, 2.3, 2.5, 9.4, 2.4, 3.2, 3.0, 2.3, 2.7, 9.0, 3.5, 2.5, 3.2, 2.5, 2.5, 2.3, 6.1, 2.9, 5.0, 2.7, 2.3, 2.3, 5.0, 2.7, 4.0, 2.3, 6.1, 2.3, 3.2, 6.8, 2.7, 9.4, 9.0, 2.3, 3.7, 2.5, 2.4, 6.1, 2.7, 2.3, 3.0, 5.8, 5.0, 3.4, 3.5, 2.5, 2.4, 2.5, 9.0, 2.5, 3.5, 2.3, 3.4, 2.7, 3.8, 6.1, 2.3, 2.4, 3.8, 2.3, 2.4, 2.7, 4.0, 3.2, 2.4, 3.8, 2.4, 3.2, 2.5, 2.3, 6.8, 3.7, 6.1, 2.5, 2.5, 6.8, 5.0, 6.8, 2.2, 3.0, 2.2, 2.9, 5.8, 4.0, 3.2, 6.8, 2.4, 3.0, 6.1, 2.5, 4.4, 2.9, 3.7, 3.5, 4.4, 3.7, 3.4, 2.9, 2.7, 6.8, 5.0, 3.0, 2.5, 2.3, 2.3, 9.4, 6.8, 6.8, 5.8, 2.4, 2.4, 9.0, 2.5, 2.7, 5.8, 9.4, 6.1, 4.0, 2.3, 6.8, 3.4, 3.7, 3.5, 2.5, 3.8, 4.4, 2.5, 2.3, 2.2, 3.5, 2.7, 3.0, 2.9, 2.4, 6.1, 2.5, 3.2, 3.0, 4.4, 2.4, 2.7, 6.8, 2.7, 2.3, 9.0, 2.5, 4.0, 2.4, 3.7, 6.8, 2.9, 6.1, 2.4, 3.0, 3.7, 9.4, 2.5, 2.4, 2.5, 3.0, 2.4, 3.0, 6.1, 2.7, 2.3, 9.0, 2.9, 2.5, 3.5, 2.4, 2.5, 5.0, 3.4, 3.0, 9.4, 2.5, 2.7, 3.4, 9.0, 2.3, 2.4, 3.5, 2.5, 4.4, 2.9, 2.4, 4.0, 3.5, 2.7, 2.4, 2.5, 2.2, 3.4, 2.3, 2.3, 3.0, 6.8, 2.7, 3.2, 9.4, 2.3, 2.7, 2.2, 2.4, 2.5, 2.5, 3.8, 2.9, 4.0, 2.7, 5.0, 2.3, 2.9, 2.3, 3.0, 3.4, 2.7, 3.0, 5.8, 5.8, 2.4, 2.4, 2.5, 3.5, 3.4, 2.4, 3.0, 5.8, 4.0, 2.3, 2.7, 3.0, 2.2, 3.0, 6.1, 4.0, 2.5, 2.2, 2.7, 3.5, 2.3, 4.0, 5.8, 9.0, 2.3, 2.7, 3.4, 3.0, 3.8, 3.7, 2.2, 5.8, 2.3, 5.8, 2.4, 2.3, 2.9, 3.7, 3.4, 4.4, 3.5, 6.8, 2.3, 2.5, 2.9, 9.0, 3.8, 3.4, 2.4, 9.0, 2.2, 3.2, 5.8, 6.8, 2.7, 2.5, 2.7, 2.5, 2.4, 5.8, 5.8, 6.1, 5.0, 5.8, 3.5, 2.3, 3.8, 2.5, 2.7, 3.0, 3.0, 6.1, 2.2, 2.3, 6.8, 2.9, 2.3, 4.4, 3.5, 3.0, 3.5, 6.1, 5.8, 5.8, 4.4, 2.7, 9.4, 2.5, 2.5, 2.5, 2.4, 2.2, 5.0, 2.7, 5.0, 3.2, 2.5, 4.0, 3.5, 2.9, 2.5, 2.5, 2.3, 2.3, 6.8, 9.4, 2.3, 2.5, 5.0, 4.4, 3.5, 4.4, 3.7, 3.7, 6.8, 3.4, 2.2, 6.8, 5.0, 2.5, 2.7, 2.2, 3.4, 2.5, 9.0, 3.5, 5.8, 3.7, 2.3, 2.5, 4.0, 9.0, 3.5, 3.4, 2.2, 9.4, 3.5, 4.4, 3.5, 5.0, 2.3, 4.0, 2.7, 2.4, 3.0, 3.4, 9.0, 9.4, 4.0, 2.4, 2.4, 2.4, 3.5, 3.5, 2.5, 6.1, 3.0, 2.7, 5.8, 3.5, 2.3, 2.3, 2.5, 2.2, 2.7, 5.8, 2.5, 6.1, 2.7, 2.7, 2.4, 3.8, 2.3, 2.4, 2.3, 3.8, 2.9, 2.7, 3.2, 2.3, 9.0, 6.1, 2.2, 4.4, 3.0, 3.5, 3.8, 4.0, 2.3, 4.4, 6.1, 2.4, 2.7, 3.2, 3.4, 3.4, 2.2, 2.5, 3.7, 2.9, 2.5, 2.5, 9.0, 9.0, 3.2, 2.7, 3.5, 2.4, 3.4, 3.4, 4.4, 9.0, 2.5, 2.3, 3.7, 2.3, 3.5, 2.7, 2.9, 5.0, 3.5, 6.8, 2.5, 2.7, 5.0, 5.0, 2.3, 5.8, 2.7, 2.2, 2.5, 3.0, 2.3, 5.8, 2.7, 2.7, 2.9, 2.3, 3.2, 4.4, 4.0, 2.5, 3.4, 3.0, 2.3, 2.5, 4.0, 2.9, 2.2, 4.4, 3.5, 2.7, 2.5, 3.0, 3.8, 2.4, 2.5, 3.0, 5.8, 5.0, 3.4, 3.4, 9.0, 2.5, 3.2, 2.9, 4.4, 2.3, 5.0, 2.2, 2.2, 2.5, 2.3, 2.4, 2.5, 6.1, 2.9, 9.0, 9.4, 2.4, 2.7, 4.4, 2.5, 2.7, 2.3, 3.4, 2.2, 2.4, 9.0, 2.2, 2.7, 9.0, 6.8, 3.7, 3.5, 3.0, 3.7, 2.3, 3.0, 2.3, 2.7, 2.3, 2.5, 2.7, 2.7, 3.5, 5.0, 6.8, 9.0, 9.0, 2.5, 3.2, 2.3, 4.4, 2.3, 3.7, 2.5, 3.2, 2.3, 3.5, 2.3, 2.3, 2.9, 3.2, 3.5, 2.3, 2.5, 2.4, 2.7, 9.0, 2.9, 2.4, 5.8, 2.4, 9.0, 3.7, 3.2, 2.3, 2.4, 2.4, 6.8, 2.3, 3.5, 2.3, 4.0, 4.0, 9.0, 2.4, 2.3, 3.0, 5.8, 2.5, 2.3, 3.5, 2.7, 5.8, 2.3, 2.5, 2.5, 5.0, 2.9, 3.7, 2.7, 2.3, 2.4, 3.0, 2.2, 2.7, 5.8, 4.0, 3.2, 9.4, 2.7, 2.7, 3.4, 3.0, 2.4, 2.5, 4.0, 2.5, 2.5, 4.4, 2.9, 2.7, 3.7, 2.4, 2.9, 3.0, 3.2, 9.0, 4.4, 3.7, 9.4, 2.9, 5.0, 6.1, 3.8, 3.5, 3.2, 3.5, 2.5, 2.3, 3.5, 9.4, 6.8, 2.9, 3.4, 5.8, 5.8, 3.7, 2.4, 2.3, 5.8, 3.7, 2.5, 2.2, 2.5, 3.8, 3.8, 2.7, 9.4, 2.5, 3.5, 3.4, 2.7, 2.7, 2.3, 2.2, 2.9, 2.7, 4.4, 5.0, 5.8, 9.4, 2.5, 3.0, 5.0, 2.7, 3.2, 2.3, 2.7, 5.8, 2.3, 3.5, 2.5, 2.4, 2.3, 2.4, 6.8, 5.8, 2.3, 2.3, 4.0, 5.8, 2.3, 4.4, 3.0, 6.1, 4.0, 9.0, 2.2, 4.4, 3.2, 5.0, 5.0, 3.0, 3.7, 3.5, 2.3, 2.4, 4.0, 2.5, 4.0, 4.4, 2.7, 3.5, 3.2, 3.2, 3.2, 3.4, 2.3, 2.2, 2.3, 2.7, 9.4, 3.5, 2.3, 5.8, 9.4, 2.5, 3.0, 2.7, 2.7, 3.2, 5.0, 2.7, 5.0, 3.8, 2.7, 5.0, 2.9, 4.0, 2.5, 2.4, 6.1, 3.2, 2.2, 2.7, 5.8, 6.1, 2.3, 3.0, 3.5, 2.4, 5.8, 2.2, 3.5, 3.8, 2.7, 2.2, 4.4, 6.1, 2.5, 2.4, 2.3, 2.7, 3.7, 3.4, 2.5, 5.0, 2.5, 3.5, 6.8, 5.8, 5.0, 2.4, 2.5, 2.3, 2.2, 3.2, 2.5, 2.3, 2.7, 3.0, 3.0, 2.3, 3.2, 2.5, 3.5, 6.1, 3.0, 3.0, 9.0, 2.3, 2.5, 2.9, 2.3, 2.2, 2.5, 2.3, 2.9, 2.4, 3.7, 2.5, 3.5, 2.4, 9.4, 2.7, 3.5, 3.5, 2.7, 9.0, 3.5, 6.8, 3.0, 2.3, 2.5, 3.8, 9.4, 2.2, 4.4, 9.4, 6.8, 3.4, 9.4, 3.2, 2.7, 2.4, 2.5, 3.5, 2.7, 2.4, 3.5, 2.3, 3.5, 2.2, 2.7, 2.2, 2.7, 2.5, 2.4, 2.9, 6.1, 2.3, 2.2, 2.7, 3.7, 3.4, 3.4, 5.8, 2.5, 2.4, 2.9, 2.7, 2.7, 2.7, 3.7, 4.0, 5.0, 2.5, 6.1, 2.2, 2.7, 5.0, 2.4, 2.7, 3.5, 9.4, 9.4, 2.9, 3.0, 2.7, 3.8, 2.7, 2.3, 3.0, 2.9, 2.7, 3.5, 6.8, 2.4, 2.9, 3.0, 2.4, 9.0, 4.4, 3.0, 9.4, 4.4, 3.7, 2.5, 2.5, 2.9, 2.5, 2.2, 2.3, 2.4, 6.1, 2.5, 3.2, 2.7, 3.2, 5.8, 3.4, 3.0, 3.5, 3.8, 4.0, 2.4, 5.0, 2.5, 2.4, 3.5, 4.0, 5.8, 2.4, 3.2, 2.7, 3.5, 2.7, 2.5, 3.2, 2.3, 4.4, 5.8, 3.5, 2.7, 2.5, 2.5, 4.4, 2.5, 2.5, 2.4, 2.5, 2.2, 4.0, 3.0, 9.4, 6.8, 3.5, 3.8, 2.4, 6.8, 2.5, 2.5, 5.8, 2.3, 3.5, 2.4, 6.1, 3.0, 2.4, 9.4, 2.3, 2.7, 3.5, 3.0, 3.0, 2.3, 2.7, 2.4, 5.8, 2.3, 2.3, 2.5, 5.8, 2.5, 2.2, 5.8, 2.3, 2.9, 3.7, 3.7, 3.0, 4.4, 3.4, 2.2, 2.3, 2.5, 2.3, 2.5, 9.0, 2.5, 2.5, 5.8, 5.0, 2.9, 4.0, 2.4, 2.7, 2.5, 2.5, 6.1, 6.8, 3.7, 9.4, 4.0, 2.9, 2.9, 2.5, 4.0, 2.5, 2.7, 3.0, 2.5, 2.3, 2.7, 3.7, 3.5, 2.7, 2.7, 6.1, 3.4, 6.8, 2.7, 3.7, 4.4, 3.5, 9.0, 5.8, 5.8, 2.3, 9.0, 2.7, 3.8, 3.4, 6.1, 3.5, 2.3, 2.2, 3.8, 2.4, 3.7, 6.8, 2.5, 2.7, 2.4, 3.5, 2.3, 9.4, 3.5, 3.5, 5.0, 2.7, 2.3, 2.4, 9.4, 9.4, 5.8, 2.4, 9.4, 5.8, 2.5, 3.4, 2.7, 2.2, 3.0, 2.7, 3.2, 4.4, 3.5, 2.3, 4.0, 2.5, 2.9, 2.9, 3.5, 3.5, 2.3, 3.5, 3.7, 2.5, 2.4, 2.5, 3.0, 2.4]\n",
      "Outliers for: Platelets\n",
      "[62000.0, 533000.0, 543000.0, 742000.0, 481000.0, 461000.0, 25100.0, 51000.0, 62000.0, 533000.0, 533000.0, 62000.0, 70000.0, 451000.0, 62000.0, 448000.0, 25100.0, 850000.0, 451000.0, 451000.0, 543000.0, 454000.0, 70000.0, 62000.0, 742000.0, 533000.0, 543000.0, 481000.0, 451000.0, 70000.0, 543000.0, 850000.0, 461000.0, 850000.0, 25100.0, 621000.0, 507000.0, 742000.0, 481000.0, 621000.0, 448000.0, 70000.0, 62000.0, 451000.0, 51000.0, 543000.0, 543000.0, 543000.0, 850000.0, 742000.0, 47000.0, 51000.0, 70000.0, 25100.0, 481000.0, 448000.0, 47000.0, 448000.0, 454000.0, 621000.0, 70000.0, 850000.0, 461000.0, 451000.0, 47000.0, 533000.0, 507000.0, 850000.0, 504000.0, 62000.0, 70000.0, 448000.0, 543000.0, 70000.0, 51000.0, 621000.0, 543000.0, 51000.0, 448000.0, 507000.0, 448000.0, 850000.0, 70000.0, 461000.0, 504000.0, 448000.0, 850000.0, 451000.0, 543000.0, 51000.0, 850000.0, 507000.0, 62000.0, 454000.0, 461000.0, 481000.0, 451000.0, 621000.0, 62000.0, 481000.0, 504000.0, 742000.0, 850000.0, 451000.0, 481000.0, 47000.0, 51000.0, 742000.0, 461000.0, 497000.0, 451000.0, 504000.0, 461000.0, 451000.0, 481000.0, 47000.0, 454000.0, 62000.0, 621000.0, 448000.0, 451000.0, 507000.0, 504000.0, 62000.0, 62000.0, 62000.0, 70000.0, 850000.0, 507000.0, 25100.0, 47000.0, 451000.0, 543000.0, 62000.0, 70000.0, 621000.0, 507000.0, 507000.0, 454000.0, 742000.0, 504000.0, 504000.0, 451000.0, 507000.0, 451000.0, 504000.0, 543000.0, 850000.0, 451000.0, 70000.0, 70000.0, 70000.0, 543000.0, 481000.0, 742000.0, 62000.0, 461000.0, 25100.0, 850000.0, 742000.0, 621000.0, 742000.0, 621000.0, 507000.0, 621000.0, 70000.0, 451000.0, 461000.0, 47000.0, 497000.0, 481000.0, 533000.0, 62000.0, 451000.0, 504000.0, 451000.0, 451000.0, 454000.0, 481000.0, 481000.0, 461000.0, 62000.0, 507000.0, 62000.0, 454000.0, 742000.0, 742000.0, 454000.0, 497000.0, 850000.0, 451000.0, 742000.0, 497000.0, 25100.0, 504000.0, 454000.0, 533000.0, 543000.0, 850000.0, 51000.0, 451000.0, 451000.0, 533000.0, 621000.0, 850000.0, 70000.0, 47000.0, 497000.0, 448000.0, 507000.0, 51000.0, 543000.0, 25100.0, 850000.0, 507000.0, 497000.0, 51000.0, 481000.0, 504000.0, 461000.0, 51000.0, 47000.0, 504000.0, 507000.0, 25100.0, 454000.0, 543000.0, 454000.0, 504000.0, 454000.0, 51000.0, 51000.0, 850000.0, 507000.0, 451000.0, 62000.0, 47000.0, 497000.0, 62000.0, 454000.0, 507000.0, 621000.0, 451000.0, 461000.0, 497000.0, 51000.0, 461000.0, 621000.0, 451000.0, 621000.0, 507000.0, 62000.0, 70000.0, 507000.0, 533000.0, 481000.0, 451000.0, 850000.0, 543000.0, 451000.0, 543000.0, 451000.0, 448000.0, 507000.0, 451000.0, 481000.0, 850000.0, 451000.0, 461000.0, 533000.0, 497000.0, 51000.0, 850000.0, 448000.0, 507000.0, 47000.0, 481000.0, 451000.0, 70000.0, 448000.0, 47000.0, 742000.0, 454000.0, 504000.0, 461000.0, 62000.0, 448000.0, 448000.0, 850000.0, 497000.0, 448000.0, 742000.0, 621000.0, 448000.0, 51000.0, 621000.0, 507000.0, 621000.0, 481000.0, 451000.0, 543000.0, 507000.0, 481000.0, 621000.0, 742000.0, 507000.0, 533000.0, 70000.0, 497000.0, 621000.0, 850000.0, 497000.0, 543000.0, 25100.0, 481000.0, 543000.0, 621000.0, 62000.0, 70000.0, 543000.0, 461000.0, 51000.0, 850000.0, 533000.0, 497000.0, 543000.0, 543000.0, 47000.0, 481000.0, 461000.0, 543000.0, 25100.0, 504000.0, 481000.0, 543000.0, 454000.0, 448000.0, 70000.0, 497000.0, 25100.0, 62000.0, 507000.0, 51000.0, 543000.0, 543000.0, 543000.0, 448000.0, 451000.0, 533000.0, 70000.0, 461000.0, 62000.0, 25100.0, 481000.0, 533000.0, 481000.0, 621000.0, 451000.0, 504000.0, 504000.0, 70000.0, 62000.0, 481000.0, 70000.0, 454000.0, 451000.0, 62000.0, 25100.0, 70000.0, 504000.0, 543000.0, 481000.0, 497000.0, 742000.0, 47000.0, 850000.0, 481000.0, 507000.0, 25100.0, 70000.0, 504000.0, 454000.0, 850000.0, 454000.0, 497000.0, 70000.0, 448000.0, 47000.0, 451000.0, 543000.0, 70000.0, 621000.0, 47000.0, 51000.0, 504000.0, 451000.0, 451000.0, 62000.0, 47000.0, 62000.0, 47000.0, 25100.0, 504000.0, 543000.0, 742000.0, 481000.0, 70000.0, 621000.0, 533000.0, 25100.0, 850000.0, 448000.0, 25100.0, 454000.0, 62000.0, 481000.0, 507000.0, 51000.0, 47000.0, 621000.0, 451000.0, 543000.0, 543000.0, 533000.0, 451000.0, 62000.0, 51000.0, 621000.0, 62000.0, 451000.0, 448000.0, 51000.0, 504000.0, 533000.0, 454000.0, 621000.0, 507000.0, 533000.0, 451000.0, 504000.0, 454000.0, 451000.0, 497000.0, 62000.0, 451000.0, 742000.0, 62000.0, 533000.0, 25100.0, 62000.0, 504000.0, 621000.0, 504000.0, 51000.0, 451000.0, 543000.0, 481000.0, 461000.0, 451000.0, 62000.0, 461000.0, 461000.0, 451000.0, 621000.0, 448000.0, 448000.0, 51000.0, 62000.0, 454000.0, 533000.0, 70000.0, 451000.0, 850000.0, 742000.0, 70000.0, 850000.0, 850000.0, 448000.0, 47000.0, 497000.0, 454000.0, 62000.0, 543000.0, 497000.0, 51000.0, 742000.0, 461000.0, 47000.0, 621000.0, 742000.0, 70000.0, 850000.0, 497000.0, 507000.0, 461000.0, 742000.0, 70000.0, 850000.0, 507000.0, 850000.0, 497000.0, 448000.0, 507000.0, 448000.0, 543000.0, 70000.0, 451000.0, 451000.0, 543000.0, 497000.0, 504000.0, 497000.0, 25100.0, 742000.0, 481000.0, 481000.0, 621000.0, 504000.0, 497000.0, 742000.0, 533000.0, 850000.0, 742000.0, 25100.0, 504000.0, 47000.0, 51000.0, 47000.0, 742000.0, 51000.0, 25100.0, 507000.0, 481000.0, 543000.0, 533000.0, 543000.0, 70000.0, 461000.0, 454000.0, 454000.0, 454000.0, 621000.0, 621000.0, 507000.0, 742000.0, 621000.0, 62000.0, 742000.0, 742000.0, 621000.0, 47000.0, 454000.0, 70000.0, 62000.0, 533000.0, 62000.0, 451000.0, 451000.0, 62000.0, 621000.0, 543000.0, 504000.0, 742000.0, 25100.0, 461000.0, 850000.0, 454000.0, 25100.0, 454000.0, 451000.0, 507000.0, 507000.0, 62000.0, 481000.0, 507000.0, 62000.0, 70000.0, 461000.0, 70000.0, 621000.0, 507000.0, 454000.0, 504000.0, 543000.0, 25100.0, 543000.0, 497000.0, 533000.0, 504000.0, 451000.0, 25100.0, 451000.0, 742000.0, 47000.0, 62000.0, 451000.0, 25100.0, 481000.0, 507000.0, 504000.0, 850000.0, 481000.0, 62000.0, 454000.0, 504000.0, 70000.0, 451000.0, 70000.0, 451000.0, 507000.0, 62000.0, 497000.0, 47000.0, 451000.0, 461000.0, 507000.0, 621000.0, 454000.0, 481000.0, 621000.0, 533000.0, 481000.0, 47000.0, 451000.0, 47000.0, 742000.0, 51000.0, 497000.0, 850000.0, 533000.0, 454000.0, 504000.0, 850000.0, 504000.0, 850000.0, 621000.0, 533000.0, 504000.0, 504000.0, 507000.0, 621000.0, 451000.0, 481000.0, 51000.0, 70000.0, 451000.0, 70000.0, 481000.0, 25100.0, 47000.0, 497000.0, 504000.0, 507000.0, 533000.0, 742000.0, 497000.0, 62000.0, 70000.0, 481000.0, 25100.0, 507000.0, 507000.0, 507000.0, 451000.0, 533000.0, 533000.0, 47000.0, 497000.0, 481000.0, 507000.0, 451000.0, 497000.0, 454000.0, 850000.0, 850000.0, 454000.0, 497000.0, 507000.0, 51000.0, 621000.0, 504000.0, 448000.0, 497000.0, 62000.0, 451000.0, 504000.0, 621000.0, 51000.0, 62000.0, 454000.0, 448000.0, 451000.0, 454000.0, 543000.0, 504000.0, 497000.0, 507000.0, 451000.0, 451000.0, 51000.0, 497000.0, 448000.0, 507000.0, 454000.0, 70000.0, 70000.0, 51000.0, 461000.0, 25100.0, 481000.0, 850000.0, 451000.0, 621000.0, 742000.0, 742000.0, 533000.0, 481000.0, 454000.0, 543000.0, 454000.0, 507000.0, 448000.0, 497000.0, 448000.0, 70000.0, 497000.0, 454000.0, 47000.0, 742000.0, 51000.0, 70000.0, 25100.0, 533000.0, 25100.0, 621000.0, 448000.0, 850000.0, 533000.0, 742000.0, 454000.0, 497000.0, 497000.0, 51000.0, 47000.0, 25100.0, 850000.0, 448000.0, 497000.0, 621000.0, 51000.0, 504000.0, 497000.0, 497000.0, 451000.0, 25100.0, 533000.0, 850000.0, 451000.0, 850000.0, 51000.0, 497000.0, 543000.0, 70000.0, 543000.0, 850000.0, 461000.0, 481000.0, 451000.0, 543000.0, 621000.0, 497000.0, 461000.0, 481000.0, 47000.0, 481000.0, 507000.0, 62000.0, 451000.0, 47000.0, 25100.0, 497000.0, 507000.0, 454000.0, 448000.0, 25100.0, 454000.0, 533000.0, 70000.0, 621000.0, 451000.0, 621000.0, 481000.0, 448000.0, 543000.0, 70000.0, 454000.0, 451000.0, 507000.0, 451000.0, 543000.0, 454000.0, 543000.0, 507000.0, 461000.0, 481000.0, 47000.0, 454000.0, 497000.0, 451000.0, 448000.0, 70000.0, 543000.0, 47000.0, 25100.0, 454000.0, 850000.0, 533000.0, 742000.0, 451000.0, 850000.0, 25100.0, 454000.0, 62000.0, 47000.0, 451000.0, 70000.0, 25100.0, 621000.0, 543000.0, 497000.0, 62000.0, 451000.0, 621000.0, 62000.0, 533000.0, 451000.0, 621000.0, 448000.0, 47000.0, 742000.0, 497000.0, 62000.0, 70000.0, 451000.0, 451000.0, 481000.0, 543000.0, 742000.0, 543000.0, 621000.0, 621000.0, 621000.0, 25100.0, 850000.0, 454000.0, 481000.0, 47000.0, 47000.0, 451000.0, 461000.0, 25100.0, 742000.0, 461000.0, 51000.0, 850000.0, 51000.0, 543000.0, 51000.0, 451000.0, 504000.0, 451000.0, 448000.0, 497000.0, 25100.0, 454000.0, 504000.0, 448000.0, 47000.0, 742000.0, 62000.0, 25100.0, 47000.0, 481000.0, 621000.0, 62000.0, 533000.0, 451000.0, 62000.0, 621000.0, 533000.0, 850000.0, 497000.0, 70000.0, 504000.0, 481000.0, 451000.0, 451000.0, 47000.0, 451000.0, 448000.0, 850000.0, 51000.0, 62000.0, 51000.0, 461000.0, 507000.0, 62000.0, 454000.0, 533000.0, 481000.0, 70000.0, 481000.0, 454000.0]\n",
      "Outliers for: Blood_Pressure\n",
      "[]\n",
      "Outliers for: Hemoglobin\n",
      "[]\n",
      "55.9 ms ± 0 ns per loop (mean ± std. dev. of 1 run, 1 loop each)\n"
     ]
    }
   ],
   "source": [
    "%%timeit -n1 -r1\n",
    "\n",
    "# columns to check for outliers\n",
    "num_list = ['Age', 'Sodium', 'Creatinine', 'Platelets', 'Blood_Pressure', 'Hemoglobin']\n",
    "\n",
    "# original code\n",
    "for col in num_list:\n",
    "    iqr_outliers(df[col])"
   ]
  },
  {
   "cell_type": "markdown",
   "metadata": {},
   "source": [
    "There is no outlier in `Age`, `Blood_Pressure` and `Hemoglobin`. <br>\n",
    "However, there is a very large number of outliers in `Sodium`, `Creatinine`, `Platelets` and `Creatine_phosphokinase`. Due to the large numbers, it is likely that the spread of values of these variables are very wide. Hence I will not remove them."
   ]
  },
  {
   "cell_type": "markdown",
   "metadata": {},
   "source": [
    "## Check for Multicollinearity Among Features\n",
    "Multicollinearity occurs when two or more independent variables are highly correlated with one another. While multicollinearity may not affect the accuracy of the model, it is difficult to determine the individual effects of the independent variables on `Survive`.\n",
    "\n",
    "Variable Inflation Factors (VIF) is a common method to determine the strength of the correlation between the independent variables. It is predicted by taking a variable and regressing it against every other variable."
   ]
  },
  {
   "cell_type": "code",
   "execution_count": 30,
   "metadata": {},
   "outputs": [
    {
     "name": "stdout",
     "output_type": "stream",
     "text": [
      "          feature         VIF\n",
      "0             Age   28.478114\n",
      "1          Sodium  149.218591\n",
      "2      Creatinine    2.928693\n",
      "3       Platelets    8.287556\n",
      "4  Blood_Pressure    8.107445\n",
      "5      Hemoglobin   27.124480\n",
      "6          Height  127.050089\n",
      "7          Weight   14.563422\n"
     ]
    }
   ],
   "source": [
    "# numerical variables\n",
    "X = df[['Age', 'Sodium', 'Creatinine', 'Platelets',\n",
    "        'Blood_Pressure', 'Hemoglobin', 'Height',\n",
    "       'Weight']]\n",
    "\n",
    "# VIF dataframe\n",
    "vif_data = pd.DataFrame()\n",
    "vif_data[\"feature\"] = X.columns\n",
    "\n",
    "# calculating VIF for each feature\n",
    "vif_data['VIF'] = [variance_inflation_factor(X.values, i)\n",
    "                          for i in range(len(X.columns))]\n",
    "  \n",
    "print(vif_data)"
   ]
  },
  {
   "cell_type": "markdown",
   "metadata": {},
   "source": [
    "`Sodium`, `Hemoglobin`, `Height` and `Weight` have high VIF values,  meaning they can be predicted by other independent variables in the dataset. `Weight` and `Height` would naturally be related. Hence I will combine these 2 variables to obtain the BMI of the patients."
   ]
  },
  {
   "cell_type": "markdown",
   "metadata": {},
   "source": [
    "## Feature Engineering\n",
    "### Height and Weight\n",
    "Since obesity is another factor of coronary artery disease, it would be more useful to calcuate the BMI to determine whether is obese or not, rather than using the height and weight separately."
   ]
  },
  {
   "cell_type": "code",
   "execution_count": 31,
   "metadata": {},
   "outputs": [
    {
     "data": {
      "text/plain": [
       "1    8795\n",
       "0    5648\n",
       "Name: obesity, dtype: int64"
      ]
     },
     "execution_count": 31,
     "metadata": {},
     "output_type": "execute_result"
    }
   ],
   "source": [
    "df = get_obesity_indicator(df, 'Height', 'Weight')\n",
    "# check\n",
    "df['obesity'].value_counts()"
   ]
  },
  {
   "cell_type": "code",
   "execution_count": 32,
   "metadata": {},
   "outputs": [],
   "source": [
    "# # convert height from cm to m\n",
    "# df['Height'] = df['Height']/100\n",
    "\n",
    "# # caclculate BMI\n",
    "# df['bmi'] = df['Weight'] / (df['Height'] * df['Height'])\n",
    "\n",
    "# # create new categorical variable\n",
    "# df['obesity'] = np.where(df['bmi'] >25 , 1, 0)\n",
    "\n",
    "# # check\n",
    "# df['obesity'].value_counts()"
   ]
  },
  {
   "cell_type": "markdown",
   "metadata": {},
   "source": [
    "The `Height`, `Weight` and `bmi` columns can then be safely removed."
   ]
  },
  {
   "cell_type": "code",
   "execution_count": 33,
   "metadata": {},
   "outputs": [],
   "source": [
    "# # remove columns from df\n",
    "# df.drop(['Height', 'Weight', 'bmi'], axis=1, inplace=True)"
   ]
  },
  {
   "cell_type": "markdown",
   "metadata": {},
   "source": [
    "## Data Exploration\n",
    "Now that the data is cleaned and reformatted, it is time to visualise it to see if there are any patterns and insights in the data.\n",
    "\n",
    "Some possible questions we have:\n",
    "- How many patients survived?\n",
    "- Does the age of a patient affects his/her survival rate?\n",
    "- How does the gender of the patient affect the survival rate of coronary artery disease?\n",
    "- Does smoking lead to a lower survival rate?\n",
    "- Would a diabetic patient suffer from a lower survival rate?\n",
    "- Does the strength of the heart (Ejection Fraction) affect the survival rate?\n",
    "- Are obese patients likely to suffer from a lower survival rate?\n",
    "- Do non-surviving patients tend to have:\n",
    "  - lower sodium level?\n",
    "  - higher creatinine level?\n",
    "  - higher platelets level?\n",
    "  - higher enzyme level (Creatine phosphokinase)?\n",
    "  - higher blood pressure?\n",
    "  - adnormal hemoglobin level?\n"
   ]
  },
  {
   "cell_type": "markdown",
   "metadata": {},
   "source": [
    "### How many patients survived?"
   ]
  },
  {
   "cell_type": "code",
   "execution_count": 34,
   "metadata": {},
   "outputs": [
    {
     "data": {
      "image/png": "[encoded data removed]",
      "text/plain": [
       "<Figure size 1080x504 with 1 Axes>"
      ]
     },
     "metadata": {
      "needs_background": "light"
     },
     "output_type": "display_data"
    }
   ],
   "source": [
    "generate_countplot(df, 'Survive')"
   ]
  },
  {
   "cell_type": "code",
   "execution_count": 35,
   "metadata": {},
   "outputs": [],
   "source": [
    "# # plot count of surviving against non-surviving\n",
    "# fig, ax = plt.subplots(figsize=(15,7))\n",
    "# ax = sns.countplot(x=df['Survive'],\n",
    "#                    order=df['Survive'].value_counts(ascending=False).index)\n",
    "        \n",
    "# abs_values = df['Survive'].value_counts(ascending=False)\n",
    "# rel_values = df['Survive'].value_counts(ascending=False, normalize=True).values * 100\n",
    "# lbls = [f'{p[0]} ({p[1]:.0f}%)' for p in zip(abs_values, rel_values)]\n",
    "\n",
    "# ax.bar_label(container=ax.containers[0], labels=lbls, fontsize=15)"
   ]
  },
  {
   "cell_type": "markdown",
   "metadata": {},
   "source": [
    "As mentioned earlier, there are more patients (67%) that did not survive in the dataset."
   ]
  },
  {
   "cell_type": "markdown",
   "metadata": {},
   "source": [
    "### Does the age of a patient affects his/her survival rate?"
   ]
  },
  {
   "cell_type": "code",
   "execution_count": 36,
   "metadata": {},
   "outputs": [
    {
     "name": "stderr",
     "output_type": "stream",
     "text": [
      "C:\\Users\\user\\anaconda3\\lib\\site-packages\\seaborn\\distributions.py:2619: FutureWarning: `distplot` is a deprecated function and will be removed in a future version. Please adapt your code to use either `displot` (a figure-level function with similar flexibility) or `histplot` (an axes-level function for histograms).\n",
      "  warnings.warn(msg, FutureWarning)\n"
     ]
    },
    {
     "data": {
      "text/plain": [
       "<AxesSubplot:xlabel='Age', ylabel='Density'>"
      ]
     },
     "execution_count": 36,
     "metadata": {},
     "output_type": "execute_result"
    },
    {
     "data": {
      "image/png": "[encoded data removed]",
      "text/plain": [
       "<Figure size 1080x504 with 1 Axes>"
      ]
     },
     "metadata": {
      "needs_background": "light"
     },
     "output_type": "display_data"
    }
   ],
   "source": [
    "# examine distribution of Age\n",
    "fig, ax = plt.subplots(figsize=(15,7))\n",
    "sns.distplot(df['Age'])"
   ]
  },
  {
   "cell_type": "markdown",
   "metadata": {},
   "source": [
    "It appears that most of these patients are aged around 60. <br>\n",
    "Is it true that the older the patient is, the higher his/her chances of dying from coronary artery disease? <br>\n",
    "I will use a boxplot to directly compare the median and spread of `Age` data for both surviving and non-surviving groups:"
   ]
  },
  {
   "cell_type": "code",
   "execution_count": 37,
   "metadata": {},
   "outputs": [
    {
     "name": "stderr",
     "output_type": "stream",
     "text": [
      "C:\\Users\\user\\anaconda3\\lib\\site-packages\\seaborn\\_decorators.py:36: FutureWarning: Pass the following variables as keyword args: x, y. From version 0.12, the only valid positional argument will be `data`, and passing other arguments without an explicit keyword will result in an error or misinterpretation.\n",
      "  warnings.warn(\n"
     ]
    },
    {
     "data": {
      "text/plain": [
       "<AxesSubplot:xlabel='Survive', ylabel='Age'>"
      ]
     },
     "execution_count": 37,
     "metadata": {},
     "output_type": "execute_result"
    },
    {
     "data": {
      "image/png": "[encoded data removed]",
      "text/plain": [
       "<Figure size 504x360 with 1 Axes>"
      ]
     },
     "metadata": {
      "needs_background": "light"
     },
     "output_type": "display_data"
    }
   ],
   "source": [
    "fig, ax = plt.subplots(figsize=(7,5))\n",
    "sns.boxplot(df['Survive'], df['Age'], showfliers=False)"
   ]
  },
  {
   "cell_type": "markdown",
   "metadata": {},
   "source": [
    "Surprisingly, it looks like the surviving patients tend to be older than the non-surviving ones. <br>\n",
    "Let's check their respective mean and median for an exact comparison:"
   ]
  },
  {
   "cell_type": "code",
   "execution_count": 38,
   "metadata": {},
   "outputs": [
    {
     "name": "stdout",
     "output_type": "stream",
     "text": [
      "65.26251298026999\n",
      "58.898213543830494\n",
      "65.0\n",
      "60.0\n"
     ]
    }
   ],
   "source": [
    "# filter two DataFrames\n",
    "survived_df = df[df[\"Survive\"] == 1]\n",
    "not_survive_df = df[df[\"Survive\"] == 0]\n",
    "\n",
    "# get mean\n",
    "print(survived_df[\"Age\"].mean())\n",
    "print(not_survive_df[\"Age\"].mean())\n",
    "\n",
    "# get median\n",
    "print(survived_df[\"Age\"].median())\n",
    "print(not_survive_df[\"Age\"].median())"
   ]
  },
  {
   "cell_type": "markdown",
   "metadata": {},
   "source": [
    "Both the mean and median of the surviving patients are indeed higher than that of the surviving ones. <br>\n",
    "From the distribution plot earlier, the ages of the patients do not follow a normal distribution. Hence I will use the Mann-Whitney U Test instead to determine if the age affects the survival rate."
   ]
  },
  {
   "cell_type": "code",
   "execution_count": 39,
   "metadata": {},
   "outputs": [
    {
     "name": "stderr",
     "output_type": "stream",
     "text": [
      "C:\\Users\\user\\anaconda3\\lib\\site-packages\\seaborn\\distributions.py:2619: FutureWarning: `distplot` is a deprecated function and will be removed in a future version. Please adapt your code to use either `displot` (a figure-level function with similar flexibility) or `histplot` (an axes-level function for histograms).\n",
      "  warnings.warn(msg, FutureWarning)\n",
      "C:\\Users\\user\\anaconda3\\lib\\site-packages\\seaborn\\distributions.py:2619: FutureWarning: `distplot` is a deprecated function and will be removed in a future version. Please adapt your code to use either `displot` (a figure-level function with similar flexibility) or `histplot` (an axes-level function for histograms).\n",
      "  warnings.warn(msg, FutureWarning)\n"
     ]
    },
    {
     "data": {
      "text/plain": [
       "<AxesSubplot:xlabel='Age', ylabel='Density'>"
      ]
     },
     "execution_count": 39,
     "metadata": {},
     "output_type": "execute_result"
    },
    {
     "data": {
      "image/png": "[encoded data removed]",
      "text/plain": [
       "<Figure size 432x288 with 1 Axes>"
      ]
     },
     "metadata": {
      "needs_background": "light"
     },
     "output_type": "display_data"
    }
   ],
   "source": [
    "sns.distplot(survived_df[\"Age\"], color='red')\n",
    "sns.distplot(not_survive_df[\"Age\"], color='black')"
   ]
  },
  {
   "cell_type": "code",
   "execution_count": 40,
   "metadata": {},
   "outputs": [
    {
     "data": {
      "text/plain": [
       "MannwhitneyuResult(statistic=29370435.5, pvalue=4.720455670746285e-152)"
      ]
     },
     "execution_count": 40,
     "metadata": {},
     "output_type": "execute_result"
    }
   ],
   "source": [
    "mannwhitneyu(survived_df[\"Age\"],\n",
    "            not_survive_df[\"Age\"])"
   ]
  },
  {
   "cell_type": "markdown",
   "metadata": {},
   "source": [
    "Since the p-value is below 0.05, there is statistical significance in the difference between the 2 groups in terms of age. Hence `Age` is a factor of coronary artery disease."
   ]
  },
  {
   "cell_type": "markdown",
   "metadata": {},
   "source": [
    "### How does the gender of the patient affect the survival rate of coronary artery disease?"
   ]
  },
  {
   "cell_type": "code",
   "execution_count": 41,
   "metadata": {},
   "outputs": [
    {
     "data": {
      "image/png": "[encoded data removed]",
      "text/plain": [
       "<Figure size 1080x504 with 1 Axes>"
      ]
     },
     "metadata": {
      "needs_background": "light"
     },
     "output_type": "display_data"
    }
   ],
   "source": [
    "# plot count gender\n",
    "temp = df.copy()\n",
    "temp['Gender'].replace({0: \"Female\", 1: \"Male\"}, inplace=True)\n",
    "\n",
    "generate_countplot(temp, 'Gender')"
   ]
  },
  {
   "cell_type": "code",
   "execution_count": 42,
   "metadata": {},
   "outputs": [],
   "source": [
    "# # plot count gender\n",
    "# fig, ax = plt.subplots(figsize=(15,7))\n",
    "\n",
    "# ax = sns.countplot(x=df['Gender'],\n",
    "#                    order=df['Gender'].value_counts(ascending=False).index)\n",
    "        \n",
    "# abs_values = df['Gender'].value_counts(ascending=False)\n",
    "# rel_values = df['Gender'].value_counts(ascending=False, normalize=True).values * 100\n",
    "# lbls = [f'{p[0]} ({p[1]:.0f}%)' for p in zip(abs_values, rel_values)]\n",
    "\n",
    "# ax.bar_label(container=ax.containers[0], labels=lbls, fontsize=15)"
   ]
  },
  {
   "cell_type": "markdown",
   "metadata": {},
   "source": [
    "There are more `Male` patients (65%) than `Female` patients. This is reasonable as men tend to have a higher incidence of coronary artery disease than women. However, women will also face greater incidences of heart diseases as they age.\n",
    "\n",
    "What about the proportion of non-surviving patients by Gender?"
   ]
  },
  {
   "cell_type": "code",
   "execution_count": 43,
   "metadata": {},
   "outputs": [
    {
     "name": "stderr",
     "output_type": "stream",
     "text": [
      "C:\\Users\\user\\anaconda3\\lib\\site-packages\\seaborn\\_decorators.py:36: FutureWarning: Pass the following variable as a keyword arg: x. From version 0.12, the only valid positional argument will be `data`, and passing other arguments without an explicit keyword will result in an error or misinterpretation.\n",
      "  warnings.warn(\n"
     ]
    },
    {
     "data": {
      "text/plain": [
       "Text(0.5, 1.0, 'Breakdown of Patients by Status and Gender')"
      ]
     },
     "execution_count": 43,
     "metadata": {},
     "output_type": "execute_result"
    },
    {
     "data": {
      "image/png": "[encoded data removed]",
      "text/plain": [
       "<Figure size 1080x504 with 1 Axes>"
      ]
     },
     "metadata": {
      "needs_background": "light"
     },
     "output_type": "display_data"
    }
   ],
   "source": [
    "# Breakdown by gender\n",
    "generate_countplot(temp, 'Gender', 'Survive')\n",
    "plt.title(\"Breakdown of Patients by Status and Gender\")"
   ]
  },
  {
   "cell_type": "code",
   "execution_count": 44,
   "metadata": {},
   "outputs": [],
   "source": [
    "# # Breakdown by gender\n",
    "# fig, ax = plt.subplots(figsize=(15,7))\n",
    "# colours = ['r','g']\n",
    "# totals = df['Gender'].value_counts()\n",
    "# n_hues = df['Survive'].unique().size\n",
    "# ax = sns.countplot(df['Gender'],\n",
    "#                    hue=df['Survive'],\n",
    "#                    order=totals.index,\n",
    "#                    palette=colours)\n",
    "# plt.title(\"Breakdown of Patients by Status and Gender\")\n",
    "# plt.tight_layout()\n",
    "\n",
    "\n",
    "# temp_totals = totals.values.tolist()*n_hues\n",
    "# # get count proportion\n",
    "# for p,t in zip(ax.patches,temp_totals):\n",
    "#     height = p.get_height()\n",
    "#     ax.text(p.get_x()+p.get_width()/2.,\n",
    "#         height + 3,\n",
    "#         '{0:.1%}'.format(height/t),\n",
    "#         ha=\"center\", fontsize=15)"
   ]
  },
  {
   "cell_type": "markdown",
   "metadata": {},
   "source": [
    "Although males are more likely to suffer from coronary artery disease, the proportion of surviving male patients is about the same as than of the female patients (both about half).\n",
    "\n",
    "What if `Age` is considered along with `Gender`?"
   ]
  },
  {
   "cell_type": "code",
   "execution_count": 45,
   "metadata": {},
   "outputs": [
    {
     "data": {
      "text/plain": [
       "<AxesSubplot:xlabel='Age', ylabel='Gender'>"
      ]
     },
     "execution_count": 45,
     "metadata": {},
     "output_type": "execute_result"
    },
    {
     "data": {
      "image/png": "[encoded data removed]",
      "text/plain": [
       "<Figure size 504x360 with 1 Axes>"
      ]
     },
     "metadata": {
      "needs_background": "light"
     },
     "output_type": "display_data"
    }
   ],
   "source": [
    "# Age and Gender\n",
    "fig, ax = plt.subplots(figsize=(7,5))\n",
    "sns.boxplot(data=temp, x='Age', y='Gender', hue ='Survive')"
   ]
  },
  {
   "cell_type": "markdown",
   "metadata": {},
   "source": [
    "Surprisingly, it appears that older male patients tend to survive as compared to younger males and females patients. <br>\n",
    "The age of female patients doesn't seem to affect their survival rate (about the same median). <br>\n",
    "The difference is more apparent for males. <br>\n",
    "Hence `Gender` helps in predicting surivial rate."
   ]
  },
  {
   "cell_type": "markdown",
   "metadata": {},
   "source": [
    "### Does smoking lead to a lower survival rate?"
   ]
  },
  {
   "cell_type": "code",
   "execution_count": 46,
   "metadata": {},
   "outputs": [
    {
     "data": {
      "text/plain": [
       "<AxesSubplot:xlabel='Survive', ylabel='Smoke'>"
      ]
     },
     "execution_count": 46,
     "metadata": {},
     "output_type": "execute_result"
    },
    {
     "data": {
      "image/png": "[encoded data removed]",
      "text/plain": [
       "<Figure size 504x360 with 1 Axes>"
      ]
     },
     "metadata": {
      "needs_background": "light"
     },
     "output_type": "display_data"
    }
   ],
   "source": [
    "# Smoking\n",
    "temp = df.copy()\n",
    "fig, ax = plt.subplots(figsize=(7,5))\n",
    "temp['Smoke'].replace({0: \"No\", 1: \"Yes\"}, inplace=True)\n",
    "sns.barplot(x='Survive',y=\"Smoke\",data=temp)"
   ]
  },
  {
   "cell_type": "markdown",
   "metadata": {},
   "source": [
    "From this barplot, it looks like smoking does decreases the survival rate (though only marginally) since the `Yes` bar is closer to `0` in x-axis `Survive`."
   ]
  },
  {
   "cell_type": "code",
   "execution_count": 47,
   "metadata": {},
   "outputs": [
    {
     "name": "stderr",
     "output_type": "stream",
     "text": [
      "C:\\Users\\user\\anaconda3\\lib\\site-packages\\seaborn\\_decorators.py:36: FutureWarning: Pass the following variable as a keyword arg: x. From version 0.12, the only valid positional argument will be `data`, and passing other arguments without an explicit keyword will result in an error or misinterpretation.\n",
      "  warnings.warn(\n"
     ]
    },
    {
     "data": {
      "text/plain": [
       "Text(0.5, 1.0, 'Breakdown between Smokers and Non-smokers')"
      ]
     },
     "execution_count": 47,
     "metadata": {},
     "output_type": "execute_result"
    },
    {
     "data": {
      "image/png": "[encoded data removed]",
      "text/plain": [
       "<Figure size 1080x504 with 1 Axes>"
      ]
     },
     "metadata": {
      "needs_background": "light"
     },
     "output_type": "display_data"
    }
   ],
   "source": [
    "# Breakdown by smoking\n",
    "generate_countplot(temp, 'Smoke', 'Survive')\n",
    "plt.title(\"Breakdown between Smokers and Non-smokers\")"
   ]
  },
  {
   "cell_type": "code",
   "execution_count": 48,
   "metadata": {},
   "outputs": [],
   "source": [
    "# # Breakdown by smoking\n",
    "# fig, ax = plt.subplots(figsize=(15,7))\n",
    "# colours = ['r','g']\n",
    "# totals = df['Smoke'].value_counts()\n",
    "# n_hues = df['Survive'].unique().size\n",
    "# ax = sns.countplot(df['Smoke'],\n",
    "#                    hue=df['Survive'],\n",
    "#                    order=totals.index,\n",
    "#                    palette=colours)\n",
    "# plt.title(\"Breakdown between Smokers and Non-smokers\")\n",
    "# plt.tight_layout()\n",
    "\n",
    "\n",
    "# temp_totals = totals.values.tolist()*n_hues\n",
    "# # get count proportion\n",
    "# for p,t in zip(ax.patches,temp_totals):\n",
    "#     height = p.get_height()\n",
    "#     ax.text(p.get_x()+p.get_width()/2.,\n",
    "#         height + 3,\n",
    "#         '{0:.1%}'.format(height/t),\n",
    "#         ha=\"center\", fontsize=15)"
   ]
  },
  {
   "cell_type": "markdown",
   "metadata": {},
   "source": [
    "According to the plot, it seems that survival rate between smokers and non-smokers are very similar. This is only about a 1% increase in death rate among the smokers as compared to the non-smokers in the dataset. <br>\n",
    "Smoking does seem to lead to a lower survival rate."
   ]
  },
  {
   "cell_type": "markdown",
   "metadata": {},
   "source": [
    "### Would a diabetic patient suffer from a lower survival rate?"
   ]
  },
  {
   "cell_type": "code",
   "execution_count": 49,
   "metadata": {},
   "outputs": [
    {
     "name": "stdout",
     "output_type": "stream",
     "text": [
      "data is successfully saved!\n"
     ]
    },
    {
     "name": "stderr",
     "output_type": "stream",
     "text": [
      "C:\\Users\\user\\anaconda3\\lib\\site-packages\\pandas\\core\\frame.py:3641: SettingWithCopyWarning: \n",
      "A value is trying to be set on a copy of a slice from a DataFrame.\n",
      "Try using .loc[row_indexer,col_indexer] = value instead\n",
      "\n",
      "See the caveats in the documentation: https://pandas.pydata.org/pandas-docs/stable/user_guide/indexing.html#returning-a-view-versus-a-copy\n",
      "  self[k1] = value[k2]\n",
      "C:\\Users\\user\\anaconda3\\lib\\site-packages\\pandas\\core\\generic.py:6619: SettingWithCopyWarning: \n",
      "A value is trying to be set on a copy of a slice from a DataFrame\n",
      "\n",
      "See the caveats in the documentation: https://pandas.pydata.org/pandas-docs/stable/user_guide/indexing.html#returning-a-view-versus-a-copy\n",
      "  return self._update_inplace(result)\n"
     ]
    },
    {
     "data": {
      "text/plain": [
       "<AxesSubplot:xlabel='Survive', ylabel='Diabetes'>"
      ]
     },
     "execution_count": 49,
     "metadata": {},
     "output_type": "execute_result"
    },
    {
     "data": {
      "image/png": "[encoded data removed]",
      "text/plain": [
       "<Figure size 504x360 with 1 Axes>"
      ]
     },
     "metadata": {
      "needs_background": "light"
     },
     "output_type": "display_data"
    }
   ],
   "source": [
    "# Diabetes\n",
    "temp = get_data(\"data/survive.db\")\n",
    "temp = clean_data(temp, CONFIG_PATH)\n",
    "temp = encoding_cat_cols(temp, columns)\n",
    "fig, ax = plt.subplots(figsize=(7,5))\n",
    "sns.barplot(x='Survive',y=\"Diabetes\",data=temp)"
   ]
  },
  {
   "cell_type": "code",
   "execution_count": 50,
   "metadata": {},
   "outputs": [],
   "source": [
    "# # Diabetes\n",
    "# fig, ax = plt.subplots(figsize=(7,5))\n",
    "# sns.barplot(x='Survive',y=\"Diabetes\",data=df)"
   ]
  },
  {
   "cell_type": "markdown",
   "metadata": {},
   "source": [
    "The proportion of surviving patient appears to be the same across all 3 conditions."
   ]
  },
  {
   "cell_type": "code",
   "execution_count": 51,
   "metadata": {},
   "outputs": [
    {
     "name": "stderr",
     "output_type": "stream",
     "text": [
      "C:\\Users\\user\\anaconda3\\lib\\site-packages\\seaborn\\_decorators.py:36: FutureWarning: Pass the following variable as a keyword arg: x. From version 0.12, the only valid positional argument will be `data`, and passing other arguments without an explicit keyword will result in an error or misinterpretation.\n",
      "  warnings.warn(\n"
     ]
    },
    {
     "data": {
      "text/plain": [
       "Text(0.5, 1.0, 'Breakdown by Diabetic and Non-diabetic Patients')"
      ]
     },
     "execution_count": 51,
     "metadata": {},
     "output_type": "execute_result"
    },
    {
     "data": {
      "image/png": "[encoded data removed]",
      "text/plain": [
       "<Figure size 1080x504 with 1 Axes>"
      ]
     },
     "metadata": {
      "needs_background": "light"
     },
     "output_type": "display_data"
    }
   ],
   "source": [
    "# Breakdown by diabetes\n",
    "generate_countplot(temp, 'Diabetes', 'Survive')\n",
    "plt.title(\"Breakdown by Diabetic and Non-diabetic Patients\")"
   ]
  },
  {
   "cell_type": "code",
   "execution_count": 52,
   "metadata": {},
   "outputs": [],
   "source": [
    "# # Breakdown by diabetes\n",
    "# fig, ax = plt.subplots(figsize=(15,7))\n",
    "# colours = ['r','g']\n",
    "# totals = df['Diabetes'].value_counts()\n",
    "# n_hues = df['Survive'].unique().size\n",
    "# ax = sns.countplot(df['Diabetes'],\n",
    "#                    hue=df['Survive'],\n",
    "#                    order=totals.index,\n",
    "#                    palette=colours)\n",
    "# plt.title(\"Breakdown by Diabetic and Non-diabetic Patients\")\n",
    "# plt.tight_layout()\n",
    "\n",
    "\n",
    "# temp_totals = totals.values.tolist()*n_hues\n",
    "# # get count proportion\n",
    "# for p,t in zip(ax.patches,temp_totals):\n",
    "#     height = p.get_height()\n",
    "#     ax.text(p.get_x()+p.get_width()/2.,\n",
    "#         height + 3,\n",
    "#         '{0:.1%}'.format(height/t),\n",
    "#         ha=\"center\", fontsize=15)"
   ]
  },
  {
   "cell_type": "markdown",
   "metadata": {},
   "source": [
    "Another odd observation from the dataset is that diabetic patients face the same risk of death (about 66%) as their non-diabetic counterparts. <br>\n",
    "Hence a diabetic patient may not necessarily suffer from a lower survival rate."
   ]
  },
  {
   "cell_type": "markdown",
   "metadata": {},
   "source": [
    "### Does the strength of the heart (Ejection Fraction) affect the survival rate?"
   ]
  },
  {
   "cell_type": "code",
   "execution_count": 53,
   "metadata": {},
   "outputs": [],
   "source": [
    "# # Ejection Fraction\n",
    "# fig, ax = plt.subplots(figsize=(7,5))\n",
    "# sns.barplot(x='Survive',y=\"Ejection_Fraction\",data=df)"
   ]
  },
  {
   "cell_type": "markdown",
   "metadata": {},
   "source": [
    "Every patients with `High` `Ejection_Fraction` suspiciously do not survive in the dataset. Let's have a look at these patients: "
   ]
  },
  {
   "cell_type": "code",
   "execution_count": 54,
   "metadata": {
    "scrolled": true
   },
   "outputs": [],
   "source": [
    "# df[df['Ejection_Fraction'] =='High']"
   ]
  },
  {
   "cell_type": "markdown",
   "metadata": {},
   "source": [
    "Upon closer examination, it seems that only 1 patient that didn't survive has a `high` `Ejection_Fraction`. All the other records seem to show the same characteristics, but only with a different `Height`, `Weight`, etc. <br>\n",
    "Thus, it would be better to remove this entry entirely as these rows are suspected to be synthetic."
   ]
  },
  {
   "cell_type": "code",
   "execution_count": 55,
   "metadata": {},
   "outputs": [],
   "source": [
    "# # remove all entries with high Ejection_Fraction\n",
    "# df2 = df.copy()\n",
    "# df2 = df2[df2['Ejection_Fraction'] !='High']\n",
    "\n",
    "# survived_df2 = df2[df2[\"Survive\"] == 1]\n",
    "# not_survive_df2 = df2[df2[\"Survive\"] == 0]"
   ]
  },
  {
   "cell_type": "code",
   "execution_count": 56,
   "metadata": {
    "scrolled": false
   },
   "outputs": [
    {
     "name": "stderr",
     "output_type": "stream",
     "text": [
      "C:\\Users\\user\\anaconda3\\lib\\site-packages\\seaborn\\_decorators.py:36: FutureWarning: Pass the following variable as a keyword arg: x. From version 0.12, the only valid positional argument will be `data`, and passing other arguments without an explicit keyword will result in an error or misinterpretation.\n",
      "  warnings.warn(\n"
     ]
    },
    {
     "data": {
      "text/plain": [
       "Text(0.5, 1.0, 'Breakdown of Patients by Status and Ejection Fraction')"
      ]
     },
     "execution_count": 56,
     "metadata": {},
     "output_type": "execute_result"
    },
    {
     "data": {
      "image/png": "[encoded data removed]",
      "text/plain": [
       "<Figure size 1080x504 with 1 Axes>"
      ]
     },
     "metadata": {
      "needs_background": "light"
     },
     "output_type": "display_data"
    }
   ],
   "source": [
    "# Breakdown by Ejection_Fraction\n",
    "generate_countplot(temp, 'Ejection_Fraction', 'Survive')\n",
    "plt.title(\"Breakdown of Patients by Status and Ejection Fraction\")"
   ]
  },
  {
   "cell_type": "code",
   "execution_count": 57,
   "metadata": {},
   "outputs": [],
   "source": [
    "# # Breakdown by Ejection_Fraction\n",
    "# fig, ax = plt.subplots(figsize=(15,7))\n",
    "# colours = ['r','g']\n",
    "# totals = df2['Ejection_Fraction'].value_counts()\n",
    "# n_hues = df2['Survive'].unique().size\n",
    "# ax = sns.countplot(df2['Ejection_Fraction'],\n",
    "#                    hue=df2['Survive'],\n",
    "#                    order=totals.index,\n",
    "#                    palette=colours)\n",
    "# plt.title(\"Breakdown of Patients by Status and Ejection Fraction\")\n",
    "# plt.tight_layout()\n",
    "\n",
    "\n",
    "# temp_totals = totals.values.tolist()*n_hues\n",
    "# # get count proportion\n",
    "# for p,t in zip(ax.patches,temp_totals):\n",
    "#     height = p.get_height()\n",
    "#     ax.text(p.get_x()+p.get_width()/2.,\n",
    "#         height + 3,\n",
    "#         '{0:.1%}'.format(height/t),\n",
    "#         ha=\"center\", fontsize=15)"
   ]
  },
  {
   "cell_type": "markdown",
   "metadata": {},
   "source": [
    "It's strange that patients with a `Normal` `Ejection Fraction` are much less likely to survive than those who have `Low` `Ejection Fraction`. <br>\n",
    "A higher Ejection Fraction may lead a lower survival rate."
   ]
  },
  {
   "cell_type": "markdown",
   "metadata": {},
   "source": [
    "### Are obese patients likely to suffer from a lower survival rate?\n"
   ]
  },
  {
   "cell_type": "code",
   "execution_count": 58,
   "metadata": {},
   "outputs": [
    {
     "name": "stderr",
     "output_type": "stream",
     "text": [
      "C:\\Users\\user\\anaconda3\\lib\\site-packages\\seaborn\\_decorators.py:36: FutureWarning: Pass the following variable as a keyword arg: x. From version 0.12, the only valid positional argument will be `data`, and passing other arguments without an explicit keyword will result in an error or misinterpretation.\n",
      "  warnings.warn(\n"
     ]
    },
    {
     "data": {
      "text/plain": [
       "Text(0.5, 1.0, 'Breakdown of Patients by Status and Obesity Status')"
      ]
     },
     "execution_count": 58,
     "metadata": {},
     "output_type": "execute_result"
    },
    {
     "data": {
      "image/png": "[encoded data removed]",
      "text/plain": [
       "<Figure size 1080x504 with 1 Axes>"
      ]
     },
     "metadata": {
      "needs_background": "light"
     },
     "output_type": "display_data"
    }
   ],
   "source": [
    "# Breakdown by obesity\n",
    "generate_countplot(df, 'obesity', 'Survive')\n",
    "plt.title(\"Breakdown of Patients by Status and Obesity Status\")"
   ]
  },
  {
   "cell_type": "code",
   "execution_count": 59,
   "metadata": {},
   "outputs": [],
   "source": [
    "# # obese:\n",
    "# fig, ax = plt.subplots(figsize=(15,7))\n",
    "# colours = ['r','g']\n",
    "# totals = df2['obesity'].value_counts()\n",
    "# n_hues = df2['Survive'].unique().size\n",
    "# ax = sns.countplot(df2['obesity'],\n",
    "#                    hue=df2['Survive'],\n",
    "#                    order=totals.index,\n",
    "#                    palette=colours)\n",
    "# plt.title(\"Breakdown of Patients by Status and Obesity Status\")\n",
    "# plt.tight_layout()\n",
    "\n",
    "\n",
    "# temp_totals = totals.values.tolist()*n_hues\n",
    "# # get count proportion\n",
    "# for p,t in zip(ax.patches,temp_totals):\n",
    "#     height = p.get_height()\n",
    "#     ax.text(p.get_x()+p.get_width()/2.,\n",
    "#         height + 3,\n",
    "#         '{0:.1%}'.format(height/t),\n",
    "#         ha=\"center\", fontsize=15)"
   ]
  },
  {
   "cell_type": "markdown",
   "metadata": {},
   "source": [
    "The dataset seems to suggest that non-obese patients are less likely to survive."
   ]
  },
  {
   "cell_type": "markdown",
   "metadata": {},
   "source": [
    "### Do non-surviving patients tend to have:\n",
    "### lower sodium level?"
   ]
  },
  {
   "cell_type": "code",
   "execution_count": 60,
   "metadata": {},
   "outputs": [
    {
     "name": "stderr",
     "output_type": "stream",
     "text": [
      "C:\\Users\\user\\anaconda3\\lib\\site-packages\\seaborn\\_decorators.py:36: FutureWarning: Pass the following variables as keyword args: x, y. From version 0.12, the only valid positional argument will be `data`, and passing other arguments without an explicit keyword will result in an error or misinterpretation.\n",
      "  warnings.warn(\n"
     ]
    },
    {
     "data": {
      "text/plain": [
       "<AxesSubplot:xlabel='Survive', ylabel='Sodium'>"
      ]
     },
     "execution_count": 60,
     "metadata": {},
     "output_type": "execute_result"
    },
    {
     "data": {
      "image/png": "[encoded data removed]",
      "text/plain": [
       "<Figure size 504x360 with 1 Axes>"
      ]
     },
     "metadata": {
      "needs_background": "light"
     },
     "output_type": "display_data"
    }
   ],
   "source": [
    "fig, ax = plt.subplots(figsize=(7,5))\n",
    "sns.boxplot(df['Survive'], df['Sodium'], showfliers=False)"
   ]
  },
  {
   "cell_type": "markdown",
   "metadata": {},
   "source": [
    "It appears that surviving patients tend to have lower sodium levels instead."
   ]
  },
  {
   "cell_type": "code",
   "execution_count": 61,
   "metadata": {},
   "outputs": [
    {
     "data": {
      "text/plain": [
       "MannwhitneyuResult(statistic=16638925.0, pvalue=3.7300468721746435e-170)"
      ]
     },
     "execution_count": 61,
     "metadata": {},
     "output_type": "execute_result"
    }
   ],
   "source": [
    "mannwhitneyu(survived_df[\"Sodium\"],\n",
    "            not_survive_df[\"Sodium\"])"
   ]
  },
  {
   "cell_type": "markdown",
   "metadata": {},
   "source": [
    "Since the p-value is below 0.05, there is statistical significance in the difference between the 2 groups in terms of sodium level. Hence `Sodium` is a factor of coronary artery disease."
   ]
  },
  {
   "cell_type": "markdown",
   "metadata": {},
   "source": [
    "#### higher creatinine level?"
   ]
  },
  {
   "cell_type": "code",
   "execution_count": 62,
   "metadata": {},
   "outputs": [
    {
     "name": "stderr",
     "output_type": "stream",
     "text": [
      "C:\\Users\\user\\anaconda3\\lib\\site-packages\\seaborn\\_decorators.py:36: FutureWarning: Pass the following variables as keyword args: x, y. From version 0.12, the only valid positional argument will be `data`, and passing other arguments without an explicit keyword will result in an error or misinterpretation.\n",
      "  warnings.warn(\n"
     ]
    },
    {
     "data": {
      "text/plain": [
       "<AxesSubplot:xlabel='Survive', ylabel='Creatinine'>"
      ]
     },
     "execution_count": 62,
     "metadata": {},
     "output_type": "execute_result"
    },
    {
     "data": {
      "image/png": "[encoded data removed]",
      "text/plain": [
       "<Figure size 504x360 with 1 Axes>"
      ]
     },
     "metadata": {
      "needs_background": "light"
     },
     "output_type": "display_data"
    }
   ],
   "source": [
    "fig, ax = plt.subplots(figsize=(7,5))\n",
    "sns.boxplot(df['Survive'], df['Creatinine'], showfliers=False)"
   ]
  },
  {
   "cell_type": "markdown",
   "metadata": {},
   "source": [
    "Surviving patients tend to have higher creatinine level instead."
   ]
  },
  {
   "cell_type": "code",
   "execution_count": 63,
   "metadata": {},
   "outputs": [
    {
     "data": {
      "text/plain": [
       "MannwhitneyuResult(statistic=34110994.0, pvalue=0.0)"
      ]
     },
     "execution_count": 63,
     "metadata": {},
     "output_type": "execute_result"
    }
   ],
   "source": [
    "mannwhitneyu(survived_df[\"Creatinine\"],\n",
    "            not_survive_df[\"Creatinine\"])"
   ]
  },
  {
   "cell_type": "markdown",
   "metadata": {},
   "source": [
    "Since the p-value is below 0.05, there is statistical significance in the difference between the 2 groups in terms of Creatinine level. Hence `Creatinine` is a factor of coronary artery disease."
   ]
  },
  {
   "cell_type": "markdown",
   "metadata": {},
   "source": [
    "#### higher platelets level?\n"
   ]
  },
  {
   "cell_type": "code",
   "execution_count": 64,
   "metadata": {},
   "outputs": [
    {
     "name": "stderr",
     "output_type": "stream",
     "text": [
      "C:\\Users\\user\\anaconda3\\lib\\site-packages\\seaborn\\_decorators.py:36: FutureWarning: Pass the following variables as keyword args: x, y. From version 0.12, the only valid positional argument will be `data`, and passing other arguments without an explicit keyword will result in an error or misinterpretation.\n",
      "  warnings.warn(\n"
     ]
    },
    {
     "data": {
      "text/plain": [
       "<AxesSubplot:xlabel='Survive', ylabel='Platelets'>"
      ]
     },
     "execution_count": 64,
     "metadata": {},
     "output_type": "execute_result"
    },
    {
     "data": {
      "image/png": "[encoded data removed]",
      "text/plain": [
       "<Figure size 504x360 with 1 Axes>"
      ]
     },
     "metadata": {
      "needs_background": "light"
     },
     "output_type": "display_data"
    }
   ],
   "source": [
    "fig, ax = plt.subplots(figsize=(7,5))\n",
    "sns.boxplot(df['Survive'], df['Platelets'], showfliers=False)"
   ]
  },
  {
   "cell_type": "markdown",
   "metadata": {},
   "source": [
    "Platelets counts are about the same between the groups."
   ]
  },
  {
   "cell_type": "code",
   "execution_count": 65,
   "metadata": {},
   "outputs": [
    {
     "data": {
      "text/plain": [
       "MannwhitneyuResult(statistic=34110994.0, pvalue=0.0)"
      ]
     },
     "execution_count": 65,
     "metadata": {},
     "output_type": "execute_result"
    }
   ],
   "source": [
    "mannwhitneyu(survived_df[\"Creatinine\"],\n",
    "            not_survive_df[\"Creatinine\"])"
   ]
  },
  {
   "cell_type": "markdown",
   "metadata": {},
   "source": [
    "#### higher enzyme level (Creatine phosphokinase)?"
   ]
  },
  {
   "cell_type": "code",
   "execution_count": 66,
   "metadata": {},
   "outputs": [],
   "source": [
    "# this feature was removed in clean_data \n",
    "# as there is not much statistical difference in Creatine phosphokinase between surviving and non-surviving patients."
   ]
  },
  {
   "cell_type": "code",
   "execution_count": 67,
   "metadata": {},
   "outputs": [],
   "source": [
    "# fig, ax = plt.subplots(figsize=(7,5))\n",
    "# sns.boxplot(df2['Survive'], df2['Creatine_phosphokinase'], showfliers=False)"
   ]
  },
  {
   "cell_type": "markdown",
   "metadata": {},
   "source": [
    "Creatine phosphokinase levels about the same between the groups."
   ]
  },
  {
   "cell_type": "code",
   "execution_count": 68,
   "metadata": {},
   "outputs": [],
   "source": [
    "# mannwhitneyu(survived_df2[\"Creatine_phosphokinase\"],\n",
    "#             not_survive_df2[\"Creatine_phosphokinase\"])"
   ]
  },
  {
   "cell_type": "markdown",
   "metadata": {},
   "source": [
    "Since the p-value in more than 0.05, there is not much statistical difference in Creatine phosphokinase between surviving and non-surviving patients. Hence this factor can be removed. "
   ]
  },
  {
   "cell_type": "code",
   "execution_count": 69,
   "metadata": {},
   "outputs": [],
   "source": [
    "# # remove columns from df\n",
    "# df2.drop(['Creatine_phosphokinase'], axis=1, inplace=True)"
   ]
  },
  {
   "cell_type": "markdown",
   "metadata": {},
   "source": [
    "#### higher blood pressure?\n"
   ]
  },
  {
   "cell_type": "code",
   "execution_count": 70,
   "metadata": {},
   "outputs": [
    {
     "name": "stderr",
     "output_type": "stream",
     "text": [
      "C:\\Users\\user\\anaconda3\\lib\\site-packages\\seaborn\\_decorators.py:36: FutureWarning: Pass the following variables as keyword args: x, y. From version 0.12, the only valid positional argument will be `data`, and passing other arguments without an explicit keyword will result in an error or misinterpretation.\n",
      "  warnings.warn(\n"
     ]
    },
    {
     "data": {
      "text/plain": [
       "<AxesSubplot:xlabel='Survive', ylabel='Blood_Pressure'>"
      ]
     },
     "execution_count": 70,
     "metadata": {},
     "output_type": "execute_result"
    },
    {
     "data": {
      "image/png": "[encoded data removed]",
      "text/plain": [
       "<Figure size 504x360 with 1 Axes>"
      ]
     },
     "metadata": {
      "needs_background": "light"
     },
     "output_type": "display_data"
    }
   ],
   "source": [
    "fig, ax = plt.subplots(figsize=(7,5))\n",
    "sns.boxplot(df['Survive'], df['Blood_Pressure'], showfliers=False)"
   ]
  },
  {
   "cell_type": "markdown",
   "metadata": {},
   "source": [
    "Surviving patients tend to have a slightly higher Blood Pressure."
   ]
  },
  {
   "cell_type": "code",
   "execution_count": 71,
   "metadata": {},
   "outputs": [
    {
     "data": {
      "text/plain": [
       "MannwhitneyuResult(statistic=24788573.5, pvalue=9.605705607142159e-12)"
      ]
     },
     "execution_count": 71,
     "metadata": {},
     "output_type": "execute_result"
    }
   ],
   "source": [
    "mannwhitneyu(survived_df[\"Blood_Pressure\"],\n",
    "            not_survive_df[\"Blood_Pressure\"])"
   ]
  },
  {
   "cell_type": "markdown",
   "metadata": {},
   "source": [
    "#### adnormal hemoglobin level?"
   ]
  },
  {
   "cell_type": "code",
   "execution_count": 72,
   "metadata": {},
   "outputs": [
    {
     "name": "stderr",
     "output_type": "stream",
     "text": [
      "C:\\Users\\user\\anaconda3\\lib\\site-packages\\seaborn\\_decorators.py:36: FutureWarning: Pass the following variables as keyword args: x, y. From version 0.12, the only valid positional argument will be `data`, and passing other arguments without an explicit keyword will result in an error or misinterpretation.\n",
      "  warnings.warn(\n"
     ]
    },
    {
     "data": {
      "text/plain": [
       "<AxesSubplot:xlabel='Survive', ylabel='Hemoglobin'>"
      ]
     },
     "execution_count": 72,
     "metadata": {},
     "output_type": "execute_result"
    },
    {
     "data": {
      "image/png": "[encoded data removed]",
      "text/plain": [
       "<Figure size 504x360 with 1 Axes>"
      ]
     },
     "metadata": {
      "needs_background": "light"
     },
     "output_type": "display_data"
    }
   ],
   "source": [
    "fig, ax = plt.subplots(figsize=(7,5))\n",
    "sns.boxplot(df['Survive'], df['Hemoglobin'], showfliers=False)"
   ]
  },
  {
   "cell_type": "markdown",
   "metadata": {},
   "source": [
    "Surviving patients tend to have a slightly lower level of hemoglobin."
   ]
  },
  {
   "cell_type": "code",
   "execution_count": 73,
   "metadata": {},
   "outputs": [
    {
     "data": {
      "text/plain": [
       "MannwhitneyuResult(statistic=21533625.0, pvalue=3.222413856555337e-12)"
      ]
     },
     "execution_count": 73,
     "metadata": {},
     "output_type": "execute_result"
    }
   ],
   "source": [
    "mannwhitneyu(survived_df[\"Hemoglobin\"],\n",
    "            not_survive_df[\"Hemoglobin\"])"
   ]
  },
  {
   "cell_type": "markdown",
   "metadata": {},
   "source": [
    "Due to a lack of domain knowledge, coupled with the fact that most of my initial assumptions made in the Data Cleaning, Fix Structural Errors section do not correspond to the findings, I will not use the grouped catergorical version of `Sodium`, `Creatinine` ,`Platelets`,`Creatine phosphokinase`, `Blood Pressure` and `Hemoglobin`. Instead I will use them as numerical variables."
   ]
  },
  {
   "cell_type": "code",
   "execution_count": 74,
   "metadata": {},
   "outputs": [],
   "source": [
    "# remove bin columns\n",
    "df.drop(['Sodium_bin', 'Creatinine_bin', 'Platelets_bin', 'Blood_Pressure_bin', 'Hemoglobin_bin'], axis = 1, inplace=True)"
   ]
  },
  {
   "cell_type": "markdown",
   "metadata": {},
   "source": [
    "### Correlation\n",
    "To get an accurate sense of the correlations of the variables with `Survive`, some data processing steps have to be made.\n",
    "#### One-Hot Encoding Catergoical Variables\n",
    "For catergoical variables, there is a need to convert them into numerical values so that they can be read by Machine Learning models."
   ]
  },
  {
   "cell_type": "code",
   "execution_count": 75,
   "metadata": {},
   "outputs": [
    {
     "data": {
      "text/html": [
       "<div>\n",
       "<style scoped>\n",
       "    .dataframe tbody tr th:only-of-type {\n",
       "        vertical-align: middle;\n",
       "    }\n",
       "\n",
       "    .dataframe tbody tr th {\n",
       "        vertical-align: top;\n",
       "    }\n",
       "\n",
       "    .dataframe thead th {\n",
       "        text-align: right;\n",
       "    }\n",
       "</style>\n",
       "<table border=\"1\" class=\"dataframe\">\n",
       "  <thead>\n",
       "    <tr style=\"text-align: right;\">\n",
       "      <th></th>\n",
       "      <th>Survive</th>\n",
       "      <th>Gender</th>\n",
       "      <th>Smoke</th>\n",
       "      <th>Age</th>\n",
       "      <th>Ejection_Fraction</th>\n",
       "      <th>Sodium</th>\n",
       "      <th>Creatinine</th>\n",
       "      <th>Platelets</th>\n",
       "      <th>Blood_Pressure</th>\n",
       "      <th>Hemoglobin</th>\n",
       "      <th>Diabetes_Diabetes</th>\n",
       "      <th>Diabetes_Normal</th>\n",
       "      <th>Diabetes_Pre-diabetes</th>\n",
       "      <th>obesity</th>\n",
       "    </tr>\n",
       "  </thead>\n",
       "  <tbody>\n",
       "    <tr>\n",
       "      <th>0</th>\n",
       "      <td>0</td>\n",
       "      <td>1</td>\n",
       "      <td>1</td>\n",
       "      <td>50</td>\n",
       "      <td>1</td>\n",
       "      <td>141</td>\n",
       "      <td>0.7</td>\n",
       "      <td>266000.0</td>\n",
       "      <td>105</td>\n",
       "      <td>12.3</td>\n",
       "      <td>0</td>\n",
       "      <td>1</td>\n",
       "      <td>0</td>\n",
       "      <td>1</td>\n",
       "    </tr>\n",
       "    <tr>\n",
       "      <th>1</th>\n",
       "      <td>1</td>\n",
       "      <td>1</td>\n",
       "      <td>0</td>\n",
       "      <td>75</td>\n",
       "      <td>1</td>\n",
       "      <td>134</td>\n",
       "      <td>2.5</td>\n",
       "      <td>224000.0</td>\n",
       "      <td>162</td>\n",
       "      <td>13.0</td>\n",
       "      <td>0</td>\n",
       "      <td>1</td>\n",
       "      <td>0</td>\n",
       "      <td>0</td>\n",
       "    </tr>\n",
       "    <tr>\n",
       "      <th>2</th>\n",
       "      <td>1</td>\n",
       "      <td>0</td>\n",
       "      <td>0</td>\n",
       "      <td>80</td>\n",
       "      <td>1</td>\n",
       "      <td>135</td>\n",
       "      <td>1.3</td>\n",
       "      <td>192000.0</td>\n",
       "      <td>179</td>\n",
       "      <td>12.4</td>\n",
       "      <td>0</td>\n",
       "      <td>0</td>\n",
       "      <td>1</td>\n",
       "      <td>1</td>\n",
       "    </tr>\n",
       "    <tr>\n",
       "      <th>3</th>\n",
       "      <td>0</td>\n",
       "      <td>1</td>\n",
       "      <td>0</td>\n",
       "      <td>60</td>\n",
       "      <td>1</td>\n",
       "      <td>136</td>\n",
       "      <td>0.9</td>\n",
       "      <td>228000.0</td>\n",
       "      <td>136</td>\n",
       "      <td>15.3</td>\n",
       "      <td>0</td>\n",
       "      <td>1</td>\n",
       "      <td>0</td>\n",
       "      <td>1</td>\n",
       "    </tr>\n",
       "    <tr>\n",
       "      <th>4</th>\n",
       "      <td>0</td>\n",
       "      <td>0</td>\n",
       "      <td>0</td>\n",
       "      <td>70</td>\n",
       "      <td>1</td>\n",
       "      <td>141</td>\n",
       "      <td>0.9</td>\n",
       "      <td>358000.0</td>\n",
       "      <td>171</td>\n",
       "      <td>13.3</td>\n",
       "      <td>0</td>\n",
       "      <td>1</td>\n",
       "      <td>0</td>\n",
       "      <td>0</td>\n",
       "    </tr>\n",
       "    <tr>\n",
       "      <th>...</th>\n",
       "      <td>...</td>\n",
       "      <td>...</td>\n",
       "      <td>...</td>\n",
       "      <td>...</td>\n",
       "      <td>...</td>\n",
       "      <td>...</td>\n",
       "      <td>...</td>\n",
       "      <td>...</td>\n",
       "      <td>...</td>\n",
       "      <td>...</td>\n",
       "      <td>...</td>\n",
       "      <td>...</td>\n",
       "      <td>...</td>\n",
       "      <td>...</td>\n",
       "    </tr>\n",
       "    <tr>\n",
       "      <th>14995</th>\n",
       "      <td>0</td>\n",
       "      <td>1</td>\n",
       "      <td>1</td>\n",
       "      <td>50</td>\n",
       "      <td>1</td>\n",
       "      <td>140</td>\n",
       "      <td>0.9</td>\n",
       "      <td>362000.0</td>\n",
       "      <td>109</td>\n",
       "      <td>11.8</td>\n",
       "      <td>0</td>\n",
       "      <td>1</td>\n",
       "      <td>0</td>\n",
       "      <td>0</td>\n",
       "    </tr>\n",
       "    <tr>\n",
       "      <th>14996</th>\n",
       "      <td>1</td>\n",
       "      <td>1</td>\n",
       "      <td>1</td>\n",
       "      <td>62</td>\n",
       "      <td>1</td>\n",
       "      <td>140</td>\n",
       "      <td>0.9</td>\n",
       "      <td>253000.0</td>\n",
       "      <td>141</td>\n",
       "      <td>14.6</td>\n",
       "      <td>0</td>\n",
       "      <td>1</td>\n",
       "      <td>0</td>\n",
       "      <td>1</td>\n",
       "    </tr>\n",
       "    <tr>\n",
       "      <th>14997</th>\n",
       "      <td>0</td>\n",
       "      <td>0</td>\n",
       "      <td>0</td>\n",
       "      <td>61</td>\n",
       "      <td>1</td>\n",
       "      <td>141</td>\n",
       "      <td>0.9</td>\n",
       "      <td>229000.0</td>\n",
       "      <td>173</td>\n",
       "      <td>9.2</td>\n",
       "      <td>0</td>\n",
       "      <td>1</td>\n",
       "      <td>0</td>\n",
       "      <td>1</td>\n",
       "    </tr>\n",
       "    <tr>\n",
       "      <th>14998</th>\n",
       "      <td>0</td>\n",
       "      <td>1</td>\n",
       "      <td>0</td>\n",
       "      <td>77</td>\n",
       "      <td>1</td>\n",
       "      <td>137</td>\n",
       "      <td>1.1</td>\n",
       "      <td>406000.0</td>\n",
       "      <td>154</td>\n",
       "      <td>11.3</td>\n",
       "      <td>0</td>\n",
       "      <td>1</td>\n",
       "      <td>0</td>\n",
       "      <td>0</td>\n",
       "    </tr>\n",
       "    <tr>\n",
       "      <th>14999</th>\n",
       "      <td>1</td>\n",
       "      <td>1</td>\n",
       "      <td>0</td>\n",
       "      <td>45</td>\n",
       "      <td>1</td>\n",
       "      <td>135</td>\n",
       "      <td>1.6</td>\n",
       "      <td>126000.0</td>\n",
       "      <td>143</td>\n",
       "      <td>16.8</td>\n",
       "      <td>0</td>\n",
       "      <td>1</td>\n",
       "      <td>0</td>\n",
       "      <td>0</td>\n",
       "    </tr>\n",
       "  </tbody>\n",
       "</table>\n",
       "<p>14443 rows × 14 columns</p>\n",
       "</div>"
      ],
      "text/plain": [
       "       Survive  Gender  Smoke  Age  Ejection_Fraction  Sodium  Creatinine  \\\n",
       "0            0       1      1   50                  1     141         0.7   \n",
       "1            1       1      0   75                  1     134         2.5   \n",
       "2            1       0      0   80                  1     135         1.3   \n",
       "3            0       1      0   60                  1     136         0.9   \n",
       "4            0       0      0   70                  1     141         0.9   \n",
       "...        ...     ...    ...  ...                ...     ...         ...   \n",
       "14995        0       1      1   50                  1     140         0.9   \n",
       "14996        1       1      1   62                  1     140         0.9   \n",
       "14997        0       0      0   61                  1     141         0.9   \n",
       "14998        0       1      0   77                  1     137         1.1   \n",
       "14999        1       1      0   45                  1     135         1.6   \n",
       "\n",
       "       Platelets  Blood_Pressure  Hemoglobin  Diabetes_Diabetes  \\\n",
       "0       266000.0             105        12.3                  0   \n",
       "1       224000.0             162        13.0                  0   \n",
       "2       192000.0             179        12.4                  0   \n",
       "3       228000.0             136        15.3                  0   \n",
       "4       358000.0             171        13.3                  0   \n",
       "...          ...             ...         ...                ...   \n",
       "14995   362000.0             109        11.8                  0   \n",
       "14996   253000.0             141        14.6                  0   \n",
       "14997   229000.0             173         9.2                  0   \n",
       "14998   406000.0             154        11.3                  0   \n",
       "14999   126000.0             143        16.8                  0   \n",
       "\n",
       "       Diabetes_Normal  Diabetes_Pre-diabetes  obesity  \n",
       "0                    1                      0        1  \n",
       "1                    1                      0        0  \n",
       "2                    0                      1        1  \n",
       "3                    1                      0        1  \n",
       "4                    1                      0        0  \n",
       "...                ...                    ...      ...  \n",
       "14995                1                      0        0  \n",
       "14996                1                      0        1  \n",
       "14997                1                      0        1  \n",
       "14998                1                      0        0  \n",
       "14999                1                      0        0  \n",
       "\n",
       "[14443 rows x 14 columns]"
      ]
     },
     "execution_count": 75,
     "metadata": {},
     "output_type": "execute_result"
    }
   ],
   "source": [
    "# encoding was already done in encoding_cat_cols(df, columns, dummy_columns)\n",
    "df"
   ]
  },
  {
   "cell_type": "code",
   "execution_count": 76,
   "metadata": {},
   "outputs": [],
   "source": [
    "# # create lists for easy reading\n",
    "# # note: obesity has already been manually encoded\n",
    "# bin_list = ['Gender',\n",
    "#             'Smoke',\n",
    "#             'Ejection_Fraction']"
   ]
  },
  {
   "cell_type": "code",
   "execution_count": 77,
   "metadata": {},
   "outputs": [],
   "source": [
    "# # manual hot-one encoding into dummy variables\n",
    "# df2 = pd.get_dummies(df2, columns=['Diabetes'])"
   ]
  },
  {
   "cell_type": "code",
   "execution_count": 78,
   "metadata": {},
   "outputs": [],
   "source": [
    "# # convert Gender column\n",
    "# df2['Gender'] = df2[bin_list].replace({'Female': 1, 'Male': 0})\n",
    "\n",
    "# # convert Ejection_Fraction column\n",
    "# df2['Ejection_Fraction'] = df2[bin_list].replace({'Low': 1, 'Normal': 0})\n",
    "\n",
    "# # convert all yes/no columns\n",
    "# df2[bin_list] = df2[bin_list].replace({'Yes': 1, 'No': 0})\n",
    "\n",
    "# df2"
   ]
  },
  {
   "cell_type": "markdown",
   "metadata": {},
   "source": [
    "### Normalising Numerical Variables\n",
    "Normalization creating new values such that they maintain the general distribution and ratios in the dataset, while keeping values within a scale applied across all numeric columns. This prevents any variables with high values from becoming the dominating factor, which may be misleading."
   ]
  },
  {
   "cell_type": "code",
   "execution_count": 79,
   "metadata": {},
   "outputs": [],
   "source": [
    "# columns to normalise\n",
    "cols_nor = ['Age', 'Sodium', 'Creatinine', 'Platelets', 'Blood_Pressure', 'Hemoglobin']"
   ]
  },
  {
   "cell_type": "code",
   "execution_count": 80,
   "metadata": {},
   "outputs": [
    {
     "data": {
      "text/html": [
       "<div>\n",
       "<style scoped>\n",
       "    .dataframe tbody tr th:only-of-type {\n",
       "        vertical-align: middle;\n",
       "    }\n",
       "\n",
       "    .dataframe tbody tr th {\n",
       "        vertical-align: top;\n",
       "    }\n",
       "\n",
       "    .dataframe thead th {\n",
       "        text-align: right;\n",
       "    }\n",
       "</style>\n",
       "<table border=\"1\" class=\"dataframe\">\n",
       "  <thead>\n",
       "    <tr style=\"text-align: right;\">\n",
       "      <th></th>\n",
       "      <th>Survive</th>\n",
       "      <th>Gender</th>\n",
       "      <th>Smoke</th>\n",
       "      <th>Age</th>\n",
       "      <th>Ejection_Fraction</th>\n",
       "      <th>Sodium</th>\n",
       "      <th>Creatinine</th>\n",
       "      <th>Platelets</th>\n",
       "      <th>Blood_Pressure</th>\n",
       "      <th>Hemoglobin</th>\n",
       "      <th>Diabetes_Diabetes</th>\n",
       "      <th>Diabetes_Normal</th>\n",
       "      <th>Diabetes_Pre-diabetes</th>\n",
       "      <th>obesity</th>\n",
       "    </tr>\n",
       "  </thead>\n",
       "  <tbody>\n",
       "    <tr>\n",
       "      <th>0</th>\n",
       "      <td>0</td>\n",
       "      <td>1</td>\n",
       "      <td>1</td>\n",
       "      <td>-0.928035</td>\n",
       "      <td>1</td>\n",
       "      <td>1.007797</td>\n",
       "      <td>-0.679504</td>\n",
       "      <td>0.030265</td>\n",
       "      <td>0.028956</td>\n",
       "      <td>-0.240028</td>\n",
       "      <td>0</td>\n",
       "      <td>1</td>\n",
       "      <td>0</td>\n",
       "      <td>1</td>\n",
       "    </tr>\n",
       "    <tr>\n",
       "      <th>1</th>\n",
       "      <td>1</td>\n",
       "      <td>1</td>\n",
       "      <td>0</td>\n",
       "      <td>1.177319</td>\n",
       "      <td>1</td>\n",
       "      <td>-0.587938</td>\n",
       "      <td>1.040470</td>\n",
       "      <td>-0.397387</td>\n",
       "      <td>1.463242</td>\n",
       "      <td>0.039866</td>\n",
       "      <td>0</td>\n",
       "      <td>1</td>\n",
       "      <td>0</td>\n",
       "      <td>0</td>\n",
       "    </tr>\n",
       "    <tr>\n",
       "      <th>2</th>\n",
       "      <td>1</td>\n",
       "      <td>0</td>\n",
       "      <td>0</td>\n",
       "      <td>1.598390</td>\n",
       "      <td>1</td>\n",
       "      <td>-0.359976</td>\n",
       "      <td>-0.106179</td>\n",
       "      <td>-0.723218</td>\n",
       "      <td>1.891012</td>\n",
       "      <td>-0.200044</td>\n",
       "      <td>0</td>\n",
       "      <td>0</td>\n",
       "      <td>1</td>\n",
       "      <td>1</td>\n",
       "    </tr>\n",
       "    <tr>\n",
       "      <th>3</th>\n",
       "      <td>0</td>\n",
       "      <td>1</td>\n",
       "      <td>0</td>\n",
       "      <td>-0.085893</td>\n",
       "      <td>1</td>\n",
       "      <td>-0.132014</td>\n",
       "      <td>-0.488396</td>\n",
       "      <td>-0.356658</td>\n",
       "      <td>0.809006</td>\n",
       "      <td>0.959518</td>\n",
       "      <td>0</td>\n",
       "      <td>1</td>\n",
       "      <td>0</td>\n",
       "      <td>1</td>\n",
       "    </tr>\n",
       "    <tr>\n",
       "      <th>4</th>\n",
       "      <td>0</td>\n",
       "      <td>0</td>\n",
       "      <td>0</td>\n",
       "      <td>0.756248</td>\n",
       "      <td>1</td>\n",
       "      <td>1.007797</td>\n",
       "      <td>-0.488396</td>\n",
       "      <td>0.967028</td>\n",
       "      <td>1.689708</td>\n",
       "      <td>0.159821</td>\n",
       "      <td>0</td>\n",
       "      <td>1</td>\n",
       "      <td>0</td>\n",
       "      <td>0</td>\n",
       "    </tr>\n",
       "    <tr>\n",
       "      <th>...</th>\n",
       "      <td>...</td>\n",
       "      <td>...</td>\n",
       "      <td>...</td>\n",
       "      <td>...</td>\n",
       "      <td>...</td>\n",
       "      <td>...</td>\n",
       "      <td>...</td>\n",
       "      <td>...</td>\n",
       "      <td>...</td>\n",
       "      <td>...</td>\n",
       "      <td>...</td>\n",
       "      <td>...</td>\n",
       "      <td>...</td>\n",
       "      <td>...</td>\n",
       "    </tr>\n",
       "    <tr>\n",
       "      <th>14995</th>\n",
       "      <td>0</td>\n",
       "      <td>1</td>\n",
       "      <td>1</td>\n",
       "      <td>-0.928035</td>\n",
       "      <td>1</td>\n",
       "      <td>0.779835</td>\n",
       "      <td>-0.488396</td>\n",
       "      <td>1.007757</td>\n",
       "      <td>0.129607</td>\n",
       "      <td>-0.439953</td>\n",
       "      <td>0</td>\n",
       "      <td>1</td>\n",
       "      <td>0</td>\n",
       "      <td>0</td>\n",
       "    </tr>\n",
       "    <tr>\n",
       "      <th>14996</th>\n",
       "      <td>1</td>\n",
       "      <td>1</td>\n",
       "      <td>1</td>\n",
       "      <td>0.082535</td>\n",
       "      <td>1</td>\n",
       "      <td>0.779835</td>\n",
       "      <td>-0.488396</td>\n",
       "      <td>-0.102103</td>\n",
       "      <td>0.934821</td>\n",
       "      <td>0.679624</td>\n",
       "      <td>0</td>\n",
       "      <td>1</td>\n",
       "      <td>0</td>\n",
       "      <td>1</td>\n",
       "    </tr>\n",
       "    <tr>\n",
       "      <th>14997</th>\n",
       "      <td>0</td>\n",
       "      <td>0</td>\n",
       "      <td>0</td>\n",
       "      <td>-0.001679</td>\n",
       "      <td>1</td>\n",
       "      <td>1.007797</td>\n",
       "      <td>-0.488396</td>\n",
       "      <td>-0.346476</td>\n",
       "      <td>1.740034</td>\n",
       "      <td>-1.479560</td>\n",
       "      <td>0</td>\n",
       "      <td>1</td>\n",
       "      <td>0</td>\n",
       "      <td>1</td>\n",
       "    </tr>\n",
       "    <tr>\n",
       "      <th>14998</th>\n",
       "      <td>0</td>\n",
       "      <td>1</td>\n",
       "      <td>0</td>\n",
       "      <td>1.345747</td>\n",
       "      <td>1</td>\n",
       "      <td>0.095948</td>\n",
       "      <td>-0.297287</td>\n",
       "      <td>1.455774</td>\n",
       "      <td>1.261939</td>\n",
       "      <td>-0.639877</td>\n",
       "      <td>0</td>\n",
       "      <td>1</td>\n",
       "      <td>0</td>\n",
       "      <td>0</td>\n",
       "    </tr>\n",
       "    <tr>\n",
       "      <th>14999</th>\n",
       "      <td>1</td>\n",
       "      <td>1</td>\n",
       "      <td>0</td>\n",
       "      <td>-1.349106</td>\n",
       "      <td>1</td>\n",
       "      <td>-0.359976</td>\n",
       "      <td>0.180483</td>\n",
       "      <td>-1.395243</td>\n",
       "      <td>0.985147</td>\n",
       "      <td>1.559292</td>\n",
       "      <td>0</td>\n",
       "      <td>1</td>\n",
       "      <td>0</td>\n",
       "      <td>0</td>\n",
       "    </tr>\n",
       "  </tbody>\n",
       "</table>\n",
       "<p>14443 rows × 14 columns</p>\n",
       "</div>"
      ],
      "text/plain": [
       "       Survive  Gender  Smoke       Age  Ejection_Fraction    Sodium  \\\n",
       "0            0       1      1 -0.928035                  1  1.007797   \n",
       "1            1       1      0  1.177319                  1 -0.587938   \n",
       "2            1       0      0  1.598390                  1 -0.359976   \n",
       "3            0       1      0 -0.085893                  1 -0.132014   \n",
       "4            0       0      0  0.756248                  1  1.007797   \n",
       "...        ...     ...    ...       ...                ...       ...   \n",
       "14995        0       1      1 -0.928035                  1  0.779835   \n",
       "14996        1       1      1  0.082535                  1  0.779835   \n",
       "14997        0       0      0 -0.001679                  1  1.007797   \n",
       "14998        0       1      0  1.345747                  1  0.095948   \n",
       "14999        1       1      0 -1.349106                  1 -0.359976   \n",
       "\n",
       "       Creatinine  Platelets  Blood_Pressure  Hemoglobin  Diabetes_Diabetes  \\\n",
       "0       -0.679504   0.030265        0.028956   -0.240028                  0   \n",
       "1        1.040470  -0.397387        1.463242    0.039866                  0   \n",
       "2       -0.106179  -0.723218        1.891012   -0.200044                  0   \n",
       "3       -0.488396  -0.356658        0.809006    0.959518                  0   \n",
       "4       -0.488396   0.967028        1.689708    0.159821                  0   \n",
       "...           ...        ...             ...         ...                ...   \n",
       "14995   -0.488396   1.007757        0.129607   -0.439953                  0   \n",
       "14996   -0.488396  -0.102103        0.934821    0.679624                  0   \n",
       "14997   -0.488396  -0.346476        1.740034   -1.479560                  0   \n",
       "14998   -0.297287   1.455774        1.261939   -0.639877                  0   \n",
       "14999    0.180483  -1.395243        0.985147    1.559292                  0   \n",
       "\n",
       "       Diabetes_Normal  Diabetes_Pre-diabetes  obesity  \n",
       "0                    1                      0        1  \n",
       "1                    1                      0        0  \n",
       "2                    0                      1        1  \n",
       "3                    1                      0        1  \n",
       "4                    1                      0        0  \n",
       "...                ...                    ...      ...  \n",
       "14995                1                      0        0  \n",
       "14996                1                      0        1  \n",
       "14997                1                      0        1  \n",
       "14998                1                      0        0  \n",
       "14999                1                      0        0  \n",
       "\n",
       "[14443 rows x 14 columns]"
      ]
     },
     "execution_count": 80,
     "metadata": {},
     "output_type": "execute_result"
    }
   ],
   "source": [
    "df[cols_nor] = (df[cols_nor]-df[cols_nor].mean())/df[cols_nor].std()\n",
    "\n",
    "df"
   ]
  },
  {
   "cell_type": "code",
   "execution_count": 81,
   "metadata": {},
   "outputs": [
    {
     "data": {
      "text/plain": [
       "<AxesSubplot:>"
      ]
     },
     "execution_count": 81,
     "metadata": {},
     "output_type": "execute_result"
    },
    {
     "data": {
      "image/png": "[encoded data removed]",
      "text/plain": [
       "<Figure size 1080x576 with 1 Axes>"
      ]
     },
     "metadata": {
      "needs_background": "light"
     },
     "output_type": "display_data"
    }
   ],
   "source": [
    "# get correlation of \"Survive\" with other variables:\n",
    "plt.figure(figsize=(15,8))\n",
    "\n",
    "df.corr()['Survive'].sort_values(ascending = False).plot(kind='bar')"
   ]
  },
  {
   "cell_type": "markdown",
   "metadata": {},
   "source": [
    "It appears that `obesity` and `Creatinine` and `Age` are positively correlated with `Survive`. This correspond with the earlier finding that an older, obese patient with a high leve of Creatinine is more likely to survive.\n",
    "\n",
    "On the other hand, it looks like patients with low Sodium levels are negatively correlated with `Survive`, meaning they are more likely to not survive. This contradicts the observation made earlier. Since the correlation value is only at 0.2, it is not a signicant factor to determine the survival rate."
   ]
  },
  {
   "cell_type": "markdown",
   "metadata": {},
   "source": [
    "# References\n",
    "- Aujla RS, Patel R. Creatine Phosphokinase. [Updated 2021 Apr 20]. In: StatPearls [Internet]. Treasure Island (FL): StatPearls Publishing; 2022 Jan-. Available from: https://www.ncbi.nlm.nih.gov/books/NBK546624/\n",
    "\n",
    "- Bagheri, B., Radmard, N., Makrani, A., &amp; Rasouli, M. (2019). Serum creatinine and occurrence and severity of coronary artery disease. Medical Archives, 73(3), 154. https://doi.org/10.5455/medarh.2019.73.154-156 \n",
    "\n",
    "- Chonchol, M., &amp; Nielson, C. (2008). Hemoglobin levels and coronary artery disease. American Heart Journal, 155(3), 494–498. https://doi.org/10.1016/j.ahj.2007.10.031 \n",
    "\n",
    "- Uysal, H. B., Dağlı, B., Akgüllü, C., Avcil, M., Zencir, C., Ayhan, M., &amp; Sönmez, H. M. (2016). Blood count parameters can predict the severity of coronary artery disease. The Korean Journal of Internal Medicine, 31(6), 1093–1100. https://doi.org/10.3904/kjim.2015.199 \n",
    "\n",
    "- Verdecchia, P., Angeli, F., Cavallini, C., Mazzotta, G., Garofoli, M., Martire, P., &amp; Reboldi, G. (2010). The optimal blood pressure target for patients with coronary artery disease. Current Cardiology Reports, 12(4), 302–306. https://doi.org/10.1007/s11886-010-0112-y \n",
    "\n",
    "- Wannamethee, S. G., Shaper, A. G., Lennon, L., Papacosta, O., &amp; Whincup, P. (2016). Mild hyponatremia, hypernatremia and incident cardiovascular disease and mortality in older men: A population-based Cohort Study. Nutrition, Metabolism and Cardiovascular Diseases, 26(1), 12–19. [https://doi.org/10.1016/j.numecd.2015.07.008 ]\n"
   ]
  },
  {
   "cell_type": "code",
   "execution_count": null,
   "metadata": {},
   "outputs": [],
   "source": []
  }
 ],
 "metadata": {
  "kernelspec": {
   "display_name": "venv",
   "language": "python",
   "name": "venv"
  },
  "language_info": {
   "codemirror_mode": {
    "name": "ipython",
    "version": 3
   },
   "file_extension": ".py",
   "mimetype": "text/x-python",
   "name": "python",
   "nbconvert_exporter": "python",
   "pygments_lexer": "ipython3",
   "version": "3.9.7"
  }
 },
 "nbformat": 4,
 "nbformat_minor": 4
}
